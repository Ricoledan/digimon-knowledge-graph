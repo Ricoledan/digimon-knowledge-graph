{
 "cells": [
  {
   "cell_type": "markdown",
   "metadata": {},
   "source": [
    "# Notebook 02: Evolution Network Analysis\n",
    "\n",
    "**Objective**: Map and analyze evolution patterns in the Digimon Knowledge Graph.\n",
    "\n",
    "This notebook explores:\n",
    "- Evolution chain extraction and analysis\n",
    "- Evolution metrics and statistics\n",
    "- Temporal progression through levels\n",
    "- Visualization of evolution networks and flows\n",
    "\n",
    "---"
   ]
  },
  {
   "cell_type": "markdown",
   "metadata": {},
   "source": [
    "## 1. Setup and Imports"
   ]
  },
  {
   "cell_type": "code",
   "metadata": {
    "ExecuteTime": {
     "end_time": "2025-08-10T20:37:58.786711Z",
     "start_time": "2025-08-10T20:37:58.057424Z"
    }
   },
   "source": [
    "# Standard imports\n",
    "import pandas as pd\n",
    "import numpy as np\n",
    "import matplotlib.pyplot as plt\n",
    "import seaborn as sns\n",
    "import networkx as nx\n",
    "from collections import defaultdict, Counter\n",
    "from pathlib import Path\n",
    "import json\n",
    "import warnings\n",
    "warnings.filterwarnings('ignore')\n",
    "\n",
    "# Custom utilities\n",
    "from utils import (\n",
    "    Neo4jConnector, \n",
    "    plot_network_interactive, plot_network_static,\n",
    "    plot_evolution_sankey, save_figure,\n",
    "    find_evolution_chains, calculate_basic_metrics,\n",
    "    LEVEL_COLORS\n",
    ")\n",
    "\n",
    "# Display settings\n",
    "pd.set_option('display.max_columns', None)\n",
    "pd.set_option('display.max_rows', 100)\n",
    "\n",
    "print(\"Environment setup complete!\")"
   ],
   "outputs": [
    {
     "name": "stdout",
     "output_type": "stream",
     "text": [
      "Environment setup complete!\n"
     ]
    }
   ],
   "execution_count": 1
  },
  {
   "cell_type": "markdown",
   "metadata": {},
   "source": [
    "## 2. Load Evolution Data"
   ]
  },
  {
   "cell_type": "code",
   "metadata": {
    "ExecuteTime": {
     "end_time": "2025-08-10T20:38:02.641595Z",
     "start_time": "2025-08-10T20:38:02.422843Z"
    }
   },
   "source": [
    "# Connect to database\n",
    "conn = Neo4jConnector()\n",
    "print(\"Connected to Neo4j database\")\n",
    "\n",
    "# Get all Digimon data\n",
    "digimon_df = conn.get_all_digimon()\n",
    "print(f\"Loaded {len(digimon_df)} Digimon\")\n",
    "\n",
    "# Get evolution relationships\n",
    "evolution_data = conn.get_evolution_chains()\n",
    "print(f\"\\nLoaded {len(evolution_data)} evolution relationships\")"
   ],
   "outputs": [
    {
     "name": "stdout",
     "output_type": "stream",
     "text": [
      "Connected to Neo4j database\n",
      "Loaded 1258 Digimon\n",
      "\n",
      "Loaded 3746 evolution relationships\n"
     ]
    }
   ],
   "execution_count": 2
  },
  {
   "cell_type": "code",
   "metadata": {
    "ExecuteTime": {
     "end_time": "2025-08-10T20:38:04.620961Z",
     "start_time": "2025-08-10T20:38:04.612875Z"
    }
   },
   "source": [
    "# Create evolution DataFrame\n",
    "evolution_df = pd.DataFrame(evolution_data)\n",
    "print(\"Evolution data sample:\")\n",
    "evolution_df.head(10)"
   ],
   "outputs": [
    {
     "name": "stdout",
     "output_type": "stream",
     "text": [
      "Evolution data sample:\n"
     ]
    },
    {
     "data": {
      "text/plain": [
       "  from_digimon   to_digimon  type\n",
       "0      DORIMON      DORUMON  None\n",
       "1      DORIMON      DODOMON  None\n",
       "2      DORIMON    DORUGAMON  None\n",
       "3      DORUMON  DORUGUREMON  None\n",
       "4      DORUMON    DORUGAMON  None\n",
       "5      DORUMON  HISYARYUMON  None\n",
       "6      DODOMON      DORUMON  None\n",
       "7      DODOMON    DORUGAMON  None\n",
       "8      DODOMON      DORIMON  None\n",
       "9    DORUGAMON  DORUGUREMON  None"
      ],
      "text/html": [
       "<div>\n",
       "<style scoped>\n",
       "    .dataframe tbody tr th:only-of-type {\n",
       "        vertical-align: middle;\n",
       "    }\n",
       "\n",
       "    .dataframe tbody tr th {\n",
       "        vertical-align: top;\n",
       "    }\n",
       "\n",
       "    .dataframe thead th {\n",
       "        text-align: right;\n",
       "    }\n",
       "</style>\n",
       "<table border=\"1\" class=\"dataframe\">\n",
       "  <thead>\n",
       "    <tr style=\"text-align: right;\">\n",
       "      <th></th>\n",
       "      <th>from_digimon</th>\n",
       "      <th>to_digimon</th>\n",
       "      <th>type</th>\n",
       "    </tr>\n",
       "  </thead>\n",
       "  <tbody>\n",
       "    <tr>\n",
       "      <th>0</th>\n",
       "      <td>DORIMON</td>\n",
       "      <td>DORUMON</td>\n",
       "      <td>None</td>\n",
       "    </tr>\n",
       "    <tr>\n",
       "      <th>1</th>\n",
       "      <td>DORIMON</td>\n",
       "      <td>DODOMON</td>\n",
       "      <td>None</td>\n",
       "    </tr>\n",
       "    <tr>\n",
       "      <th>2</th>\n",
       "      <td>DORIMON</td>\n",
       "      <td>DORUGAMON</td>\n",
       "      <td>None</td>\n",
       "    </tr>\n",
       "    <tr>\n",
       "      <th>3</th>\n",
       "      <td>DORUMON</td>\n",
       "      <td>DORUGUREMON</td>\n",
       "      <td>None</td>\n",
       "    </tr>\n",
       "    <tr>\n",
       "      <th>4</th>\n",
       "      <td>DORUMON</td>\n",
       "      <td>DORUGAMON</td>\n",
       "      <td>None</td>\n",
       "    </tr>\n",
       "    <tr>\n",
       "      <th>5</th>\n",
       "      <td>DORUMON</td>\n",
       "      <td>HISYARYUMON</td>\n",
       "      <td>None</td>\n",
       "    </tr>\n",
       "    <tr>\n",
       "      <th>6</th>\n",
       "      <td>DODOMON</td>\n",
       "      <td>DORUMON</td>\n",
       "      <td>None</td>\n",
       "    </tr>\n",
       "    <tr>\n",
       "      <th>7</th>\n",
       "      <td>DODOMON</td>\n",
       "      <td>DORUGAMON</td>\n",
       "      <td>None</td>\n",
       "    </tr>\n",
       "    <tr>\n",
       "      <th>8</th>\n",
       "      <td>DODOMON</td>\n",
       "      <td>DORIMON</td>\n",
       "      <td>None</td>\n",
       "    </tr>\n",
       "    <tr>\n",
       "      <th>9</th>\n",
       "      <td>DORUGAMON</td>\n",
       "      <td>DORUGUREMON</td>\n",
       "      <td>None</td>\n",
       "    </tr>\n",
       "  </tbody>\n",
       "</table>\n",
       "</div>"
      ]
     },
     "execution_count": 3,
     "metadata": {},
     "output_type": "execute_result"
    }
   ],
   "execution_count": 3
  },
  {
   "cell_type": "code",
   "metadata": {
    "ExecuteTime": {
     "end_time": "2025-08-10T20:38:14.780618Z",
     "start_time": "2025-08-10T20:38:14.575672Z"
    }
   },
   "source": [
    "# Build evolution graph\n",
    "G = nx.DiGraph()\n",
    "\n",
    "# Add nodes with attributes\n",
    "for _, digimon in digimon_df.iterrows():\n",
    "    G.add_node(\n",
    "        digimon['name_en'],\n",
    "        level=digimon['level'],\n",
    "        type=digimon['type'],\n",
    "        attribute=digimon['attribute']\n",
    "    )\n",
    "\n",
    "# Add evolution edges\n",
    "for _, evo in evolution_df.iterrows():\n",
    "    G.add_edge(\n",
    "        evo['from_digimon'],\n",
    "        evo['to_digimon'],\n",
    "        type=evo.get('type', 'evolution')\n",
    "    )\n",
    "\n",
    "print(f\"\\nEvolution graph created:\")\n",
    "print(f\"  - Nodes: {G.number_of_nodes()}\")\n",
    "print(f\"  - Edges: {G.number_of_edges()}\")"
   ],
   "outputs": [
    {
     "ename": "ValueError",
     "evalue": "None cannot be a node",
     "output_type": "error",
     "traceback": [
      "\u001B[31m---------------------------------------------------------------------------\u001B[39m",
      "\u001B[31mValueError\u001B[39m                                Traceback (most recent call last)",
      "\u001B[36mCell\u001B[39m\u001B[36m \u001B[39m\u001B[32mIn[4]\u001B[39m\u001B[32m, line 6\u001B[39m\n\u001B[32m      4\u001B[39m \u001B[38;5;66;03m# Add nodes with attributes\u001B[39;00m\n\u001B[32m      5\u001B[39m \u001B[38;5;28;01mfor\u001B[39;00m _, digimon \u001B[38;5;129;01min\u001B[39;00m digimon_df.iterrows():\n\u001B[32m----> \u001B[39m\u001B[32m6\u001B[39m     \u001B[43mG\u001B[49m\u001B[43m.\u001B[49m\u001B[43madd_node\u001B[49m\u001B[43m(\u001B[49m\n\u001B[32m      7\u001B[39m \u001B[43m        \u001B[49m\u001B[43mdigimon\u001B[49m\u001B[43m[\u001B[49m\u001B[33;43m'\u001B[39;49m\u001B[33;43mname_en\u001B[39;49m\u001B[33;43m'\u001B[39;49m\u001B[43m]\u001B[49m\u001B[43m,\u001B[49m\n\u001B[32m      8\u001B[39m \u001B[43m        \u001B[49m\u001B[43mlevel\u001B[49m\u001B[43m=\u001B[49m\u001B[43mdigimon\u001B[49m\u001B[43m[\u001B[49m\u001B[33;43m'\u001B[39;49m\u001B[33;43mlevel\u001B[39;49m\u001B[33;43m'\u001B[39;49m\u001B[43m]\u001B[49m\u001B[43m,\u001B[49m\n\u001B[32m      9\u001B[39m \u001B[43m        \u001B[49m\u001B[38;5;28;43mtype\u001B[39;49m\u001B[43m=\u001B[49m\u001B[43mdigimon\u001B[49m\u001B[43m[\u001B[49m\u001B[33;43m'\u001B[39;49m\u001B[33;43mtype\u001B[39;49m\u001B[33;43m'\u001B[39;49m\u001B[43m]\u001B[49m\u001B[43m,\u001B[49m\n\u001B[32m     10\u001B[39m \u001B[43m        \u001B[49m\u001B[43mattribute\u001B[49m\u001B[43m=\u001B[49m\u001B[43mdigimon\u001B[49m\u001B[43m[\u001B[49m\u001B[33;43m'\u001B[39;49m\u001B[33;43mattribute\u001B[39;49m\u001B[33;43m'\u001B[39;49m\u001B[43m]\u001B[49m\n\u001B[32m     11\u001B[39m \u001B[43m    \u001B[49m\u001B[43m)\u001B[49m\n\u001B[32m     13\u001B[39m \u001B[38;5;66;03m# Add evolution edges\u001B[39;00m\n\u001B[32m     14\u001B[39m \u001B[38;5;28;01mfor\u001B[39;00m _, evo \u001B[38;5;129;01min\u001B[39;00m evolution_df.iterrows():\n",
      "\u001B[36mFile \u001B[39m\u001B[32m~/dev/projects/project-yggdrasil/.venv/lib/python3.11/site-packages/networkx/classes/digraph.py:462\u001B[39m, in \u001B[36mDiGraph.add_node\u001B[39m\u001B[34m(self, node_for_adding, **attr)\u001B[39m\n\u001B[32m    460\u001B[39m \u001B[38;5;28;01mif\u001B[39;00m node_for_adding \u001B[38;5;129;01mnot\u001B[39;00m \u001B[38;5;129;01min\u001B[39;00m \u001B[38;5;28mself\u001B[39m._succ:\n\u001B[32m    461\u001B[39m     \u001B[38;5;28;01mif\u001B[39;00m node_for_adding \u001B[38;5;129;01mis\u001B[39;00m \u001B[38;5;28;01mNone\u001B[39;00m:\n\u001B[32m--> \u001B[39m\u001B[32m462\u001B[39m         \u001B[38;5;28;01mraise\u001B[39;00m \u001B[38;5;167;01mValueError\u001B[39;00m(\u001B[33m\"\u001B[39m\u001B[33mNone cannot be a node\u001B[39m\u001B[33m\"\u001B[39m)\n\u001B[32m    463\u001B[39m     \u001B[38;5;28mself\u001B[39m._succ[node_for_adding] = \u001B[38;5;28mself\u001B[39m.adjlist_inner_dict_factory()\n\u001B[32m    464\u001B[39m     \u001B[38;5;28mself\u001B[39m._pred[node_for_adding] = \u001B[38;5;28mself\u001B[39m.adjlist_inner_dict_factory()\n",
      "\u001B[31mValueError\u001B[39m: None cannot be a node"
     ]
    }
   ],
   "execution_count": 4
  },
  {
   "cell_type": "markdown",
   "metadata": {},
   "source": [
    "## 3. Evolution Chain Analysis"
   ]
  },
  {
   "cell_type": "code",
   "execution_count": null,
   "metadata": {},
   "outputs": [],
   "source": [
    "# Find all evolution chains\n",
    "print(\"Finding evolution chains...\")\n",
    "\n",
    "# Find nodes with no incoming evolution edges (chain starts)\n",
    "chain_starts = []\n",
    "for node in G.nodes():\n",
    "    if G.in_degree(node) == 0 and G.out_degree(node) > 0:\n",
    "        chain_starts.append(node)\n",
    "\n",
    "print(f\"Found {len(chain_starts)} chain starting points\")\n",
    "\n",
    "# Build chains\n",
    "all_chains = []\n",
    "\n",
    "def build_chain(node, current_chain, visited):\n",
    "    current_chain.append(node)\n",
    "    visited.add(node)\n",
    "    \n",
    "    successors = list(G.successors(node))\n",
    "    \n",
    "    if not successors:\n",
    "        # End of chain\n",
    "        all_chains.append(current_chain.copy())\n",
    "    else:\n",
    "        for successor in successors:\n",
    "            if successor not in visited:\n",
    "                build_chain(successor, current_chain.copy(), visited.copy())\n",
    "\n",
    "for start in chain_starts:\n",
    "    build_chain(start, [], set())\n",
    "\n",
    "print(f\"\\nFound {len(all_chains)} complete evolution chains\")"
   ]
  },
  {
   "cell_type": "code",
   "execution_count": null,
   "metadata": {},
   "outputs": [],
   "source": [
    "# Analyze chain lengths\n",
    "chain_lengths = [len(chain) for chain in all_chains]\n",
    "length_distribution = Counter(chain_lengths)\n",
    "\n",
    "print(\"=== EVOLUTION CHAIN LENGTH STATISTICS ===\")\n",
    "print(f\"Average chain length: {np.mean(chain_lengths):.2f}\")\n",
    "print(f\"Median chain length: {np.median(chain_lengths):.0f}\")\n",
    "print(f\"Longest chain: {max(chain_lengths)}\")\n",
    "print(f\"Shortest chain: {min(chain_lengths)}\")\n",
    "\n",
    "print(\"\\nChain length distribution:\")\n",
    "for length, count in sorted(length_distribution.items()):\n",
    "    print(f\"  Length {length}: {count} chains\")"
   ]
  },
  {
   "cell_type": "code",
   "execution_count": null,
   "metadata": {},
   "outputs": [],
   "source": [
    "# Find longest chains\n",
    "longest_chains = [chain for chain in all_chains if len(chain) == max(chain_lengths)]\n",
    "print(f\"\\n=== LONGEST EVOLUTION CHAINS ({max(chain_lengths)} stages) ===\")\n",
    "for i, chain in enumerate(longest_chains[:5]):\n",
    "    print(f\"\\nChain {i+1}:\")\n",
    "    for j, digimon in enumerate(chain):\n",
    "        level = G.nodes[digimon].get('level', 'Unknown')\n",
    "        print(f\"  {j+1}. {digimon} ({level})\")"
   ]
  },
  {
   "cell_type": "code",
   "execution_count": null,
   "metadata": {},
   "outputs": [],
   "source": [
    "# Analyze branching patterns\n",
    "branching_nodes = []\n",
    "for node in G.nodes():\n",
    "    out_degree = G.out_degree(node)\n",
    "    if out_degree > 1:\n",
    "        branching_nodes.append((node, out_degree))\n",
    "\n",
    "branching_nodes.sort(key=lambda x: x[1], reverse=True)\n",
    "\n",
    "print(\"=== TOP BRANCHING DIGIMON ===\")\n",
    "print(\"(Digimon with multiple evolution paths)\\n\")\n",
    "for digimon, branches in branching_nodes[:10]:\n",
    "    level = G.nodes[digimon].get('level', 'Unknown')\n",
    "    print(f\"{digimon} ({level}): {branches} evolution paths\")"
   ]
  },
  {
   "cell_type": "markdown",
   "metadata": {},
   "source": [
    "## 4. Level Transition Analysis"
   ]
  },
  {
   "cell_type": "code",
   "execution_count": null,
   "metadata": {},
   "outputs": [],
   "source": [
    "# Create level transition matrix\n",
    "level_order = ['Baby', 'In-Training', 'Rookie', 'Champion', 'Ultimate', 'Mega', 'Ultra']\n",
    "transition_matrix = pd.DataFrame(0, index=level_order, columns=level_order)\n",
    "\n",
    "for edge in G.edges():\n",
    "    from_node, to_node = edge\n",
    "    from_level = G.nodes[from_node].get('level', 'Unknown')\n",
    "    to_level = G.nodes[to_node].get('level', 'Unknown')\n",
    "    \n",
    "    if from_level in level_order and to_level in level_order:\n",
    "        transition_matrix.loc[from_level, to_level] += 1\n",
    "\n",
    "print(\"=== LEVEL TRANSITION MATRIX ===\")\n",
    "print(transition_matrix)"
   ]
  },
  {
   "cell_type": "code",
   "execution_count": null,
   "metadata": {},
   "outputs": [],
   "source": [
    "# Analyze skip evolutions\n",
    "skip_evolutions = []\n",
    "normal_evolutions = []\n",
    "\n",
    "for edge in G.edges():\n",
    "    from_node, to_node = edge\n",
    "    from_level = G.nodes[from_node].get('level', 'Unknown')\n",
    "    to_level = G.nodes[to_node].get('level', 'Unknown')\n",
    "    \n",
    "    if from_level in level_order and to_level in level_order:\n",
    "        from_idx = level_order.index(from_level)\n",
    "        to_idx = level_order.index(to_level)\n",
    "        \n",
    "        if to_idx - from_idx > 1:\n",
    "            skip_evolutions.append((from_node, to_node, from_level, to_level))\n",
    "        elif to_idx - from_idx == 1:\n",
    "            normal_evolutions.append((from_node, to_node, from_level, to_level))\n",
    "\n",
    "print(f\"\\nEvolution pattern analysis:\")\n",
    "print(f\"  - Normal evolutions (next level): {len(normal_evolutions)}\")\n",
    "print(f\"  - Skip evolutions (jump levels): {len(skip_evolutions)}\")\n",
    "print(f\"  - Skip evolution rate: {len(skip_evolutions) / (len(normal_evolutions) + len(skip_evolutions)) * 100:.1f}%\")\n",
    "\n",
    "print(\"\\nExample skip evolutions:\")\n",
    "for i, (from_d, to_d, from_l, to_l) in enumerate(skip_evolutions[:5]):\n",
    "    print(f\"  {from_d} ({from_l}) → {to_d} ({to_l})\")"
   ]
  },
  {
   "cell_type": "markdown",
   "metadata": {},
   "source": [
    "## 5. Type and Attribute Stability"
   ]
  },
  {
   "cell_type": "code",
   "execution_count": null,
   "metadata": {},
   "outputs": [],
   "source": [
    "# Analyze type changes during evolution\n",
    "type_changes = []\n",
    "type_stable = []\n",
    "\n",
    "for edge in G.edges():\n",
    "    from_node, to_node = edge\n",
    "    from_type = G.nodes[from_node].get('type', 'Unknown')\n",
    "    to_type = G.nodes[to_node].get('type', 'Unknown')\n",
    "    \n",
    "    if from_type != 'Unknown' and to_type != 'Unknown':\n",
    "        if from_type == to_type:\n",
    "            type_stable.append((from_node, to_node, from_type))\n",
    "        else:\n",
    "            type_changes.append((from_node, to_node, from_type, to_type))\n",
    "\n",
    "type_stability_rate = len(type_stable) / (len(type_stable) + len(type_changes)) * 100\n",
    "\n",
    "print(\"=== TYPE STABILITY ANALYSIS ===\")\n",
    "print(f\"Type-stable evolutions: {len(type_stable)}\")\n",
    "print(f\"Type-changing evolutions: {len(type_changes)}\")\n",
    "print(f\"Type stability rate: {type_stability_rate:.1f}%\")\n",
    "\n",
    "# Most common type changes\n",
    "type_change_patterns = Counter([(tc[2], tc[3]) for tc in type_changes])\n",
    "print(\"\\nMost common type changes:\")\n",
    "for (from_type, to_type), count in type_change_patterns.most_common(10):\n",
    "    print(f\"  {from_type} → {to_type}: {count} occurrences\")"
   ]
  },
  {
   "cell_type": "code",
   "execution_count": null,
   "metadata": {},
   "outputs": [],
   "source": [
    "# Analyze attribute changes during evolution\n",
    "attr_changes = []\n",
    "attr_stable = []\n",
    "\n",
    "for edge in G.edges():\n",
    "    from_node, to_node = edge\n",
    "    from_attr = G.nodes[from_node].get('attribute', 'Unknown')\n",
    "    to_attr = G.nodes[to_node].get('attribute', 'Unknown')\n",
    "    \n",
    "    if from_attr != 'Unknown' and to_attr != 'Unknown':\n",
    "        if from_attr == to_attr:\n",
    "            attr_stable.append((from_node, to_node, from_attr))\n",
    "        else:\n",
    "            attr_changes.append((from_node, to_node, from_attr, to_attr))\n",
    "\n",
    "attr_stability_rate = len(attr_stable) / (len(attr_stable) + len(attr_changes)) * 100\n",
    "\n",
    "print(\"\\n=== ATTRIBUTE STABILITY ANALYSIS ===\")\n",
    "print(f\"Attribute-stable evolutions: {len(attr_stable)}\")\n",
    "print(f\"Attribute-changing evolutions: {len(attr_changes)}\")\n",
    "print(f\"Attribute stability rate: {attr_stability_rate:.1f}%\")\n",
    "\n",
    "# Attribute change patterns\n",
    "attr_change_patterns = Counter([(ac[2], ac[3]) for ac in attr_changes])\n",
    "print(\"\\nAttribute change patterns:\")\n",
    "for (from_attr, to_attr), count in attr_change_patterns.most_common():\n",
    "    print(f\"  {from_attr} → {to_attr}: {count} occurrences\")"
   ]
  },
  {
   "cell_type": "markdown",
   "metadata": {},
   "source": [
    "## 6. Evolution Network Visualization"
   ]
  },
  {
   "cell_type": "code",
   "execution_count": null,
   "metadata": {},
   "outputs": [],
   "source": [
    "# Create a smaller subgraph for visualization (most connected component)\n",
    "if nx.is_weakly_connected(G):\n",
    "    largest_component = G\n",
    "else:\n",
    "    components = list(nx.weakly_connected_components(G))\n",
    "    largest_component = G.subgraph(max(components, key=len)).copy()\n",
    "\n",
    "print(f\"Largest connected component: {largest_component.number_of_nodes()} nodes\")\n",
    "\n",
    "# Create visualization of a sample\n",
    "if largest_component.number_of_nodes() > 100:\n",
    "    # Sample for visualization\n",
    "    central_nodes = sorted(nx.degree_centrality(largest_component).items(), \n",
    "                          key=lambda x: x[1], reverse=True)[:50]\n",
    "    sample_nodes = [node for node, _ in central_nodes]\n",
    "    \n",
    "    # Add neighbors\n",
    "    extended_nodes = set(sample_nodes)\n",
    "    for node in sample_nodes:\n",
    "        extended_nodes.update(G.predecessors(node))\n",
    "        extended_nodes.update(G.successors(node))\n",
    "    \n",
    "    sample_graph = G.subgraph(list(extended_nodes)[:100]).copy()\n",
    "else:\n",
    "    sample_graph = largest_component\n",
    "\n",
    "# Create static visualization\n",
    "fig = plot_network_static(\n",
    "    sample_graph,\n",
    "    title=\"Evolution Network (Sample)\",\n",
    "    node_color_attr='level',\n",
    "    layout='kamada_kawai',\n",
    "    figsize=(15, 15)\n",
    ")\n",
    "save_figure(fig, \"evolution_network_sample\")\n",
    "plt.show()"
   ]
  },
  {
   "cell_type": "code",
   "execution_count": null,
   "metadata": {},
   "outputs": [],
   "source": [
    "# Create level transition heatmap\n",
    "fig, ax = plt.subplots(figsize=(10, 8))\n",
    "sns.heatmap(transition_matrix, annot=True, fmt='d', cmap='YlOrRd', \n",
    "            cbar_kws={'label': 'Number of Evolutions'}, ax=ax)\n",
    "ax.set_title('Level Transition Heatmap', fontsize=16, fontweight='bold')\n",
    "ax.set_xlabel('To Level')\n",
    "ax.set_ylabel('From Level')\n",
    "plt.tight_layout()\n",
    "save_figure(fig, \"level_transition_heatmap\")\n",
    "plt.show()"
   ]
  },
  {
   "cell_type": "code",
   "execution_count": null,
   "metadata": {},
   "outputs": [],
   "source": [
    "# Create Sankey diagram for evolution flow\n",
    "# Prepare data for top evolution paths\n",
    "evolution_sample = evolution_df.head(100)  # Sample for visualization\n",
    "fig = plot_evolution_sankey(\n",
    "    evolution_sample.to_dict('records'),\n",
    "    title=\"Evolution Flow Diagram (Sample)\"\n",
    ")\n",
    "save_figure(fig, \"evolution_sankey\")\n",
    "fig.show()"
   ]
  },
  {
   "cell_type": "code",
   "execution_count": null,
   "metadata": {},
   "outputs": [],
   "source": [
    "# Chain length distribution visualization\n",
    "fig, ax = plt.subplots(figsize=(10, 6))\n",
    "chain_length_counts = list(length_distribution.values())\n",
    "chain_length_labels = list(length_distribution.keys())\n",
    "\n",
    "bars = ax.bar(chain_length_labels, chain_length_counts, \n",
    "               color=sns.color_palette('viridis', len(chain_length_labels)))\n",
    "ax.set_xlabel('Chain Length')\n",
    "ax.set_ylabel('Number of Chains')\n",
    "ax.set_title('Evolution Chain Length Distribution', fontsize=16, fontweight='bold')\n",
    "\n",
    "# Add value labels\n",
    "for bar in bars:\n",
    "    height = bar.get_height()\n",
    "    ax.text(bar.get_x() + bar.get_width()/2., height,\n",
    "            f'{int(height)}', ha='center', va='bottom')\n",
    "\n",
    "plt.tight_layout()\n",
    "save_figure(fig, \"chain_length_distribution\")\n",
    "plt.show()"
   ]
  },
  {
   "cell_type": "markdown",
   "metadata": {},
   "source": [
    "## 7. Evolution Metrics Export"
   ]
  },
  {
   "cell_type": "code",
   "execution_count": null,
   "metadata": {},
   "outputs": [],
   "source": [
    "# Prepare evolution metrics\n",
    "evolution_metrics = {\n",
    "    'total_evolution_relationships': len(evolution_df),\n",
    "    'total_chains': len(all_chains),\n",
    "    'average_chain_length': np.mean(chain_lengths),\n",
    "    'max_chain_length': max(chain_lengths),\n",
    "    'min_chain_length': min(chain_lengths),\n",
    "    'branching_nodes': len(branching_nodes),\n",
    "    'type_stability_rate': type_stability_rate,\n",
    "    'attribute_stability_rate': attr_stability_rate,\n",
    "    'skip_evolution_rate': len(skip_evolutions) / (len(normal_evolutions) + len(skip_evolutions)) * 100\n",
    "}\n",
    "\n",
    "# Export results\n",
    "results_dir = Path('../results/data')\n",
    "results_dir.mkdir(parents=True, exist_ok=True)\n",
    "\n",
    "# Save metrics\n",
    "with open(results_dir / 'evolution_metrics.json', 'w') as f:\n",
    "    json.dump(evolution_metrics, f, indent=2)\n",
    "\n",
    "# Save transition matrix\n",
    "transition_matrix.to_csv(results_dir / 'level_transition_matrix.csv')\n",
    "\n",
    "# Save chain data\n",
    "chain_data = []\n",
    "for i, chain in enumerate(all_chains[:100]):  # Save first 100 chains\n",
    "    chain_data.append({\n",
    "        'chain_id': i,\n",
    "        'length': len(chain),\n",
    "        'chain': ' → '.join(chain)\n",
    "    })\n",
    "pd.DataFrame(chain_data).to_csv(results_dir / 'evolution_chains_sample.csv', index=False)\n",
    "\n",
    "print(\"Evolution analysis results exported!\")"
   ]
  },
  {
   "cell_type": "markdown",
   "metadata": {},
   "source": [
    "## Summary and Key Findings\n",
    "\n",
    "### Evolution Pattern Insights:\n",
    "\n",
    "1. **Chain Structure**:\n",
    "   - Most evolution chains follow predictable level progressions\n",
    "   - Average chain length suggests multi-stage evolution is common\n",
    "   - Some Digimon serve as major branching points with multiple evolution paths\n",
    "\n",
    "2. **Level Transitions**:\n",
    "   - Most evolutions follow sequential level progression\n",
    "   - Skip evolutions (jumping levels) are relatively rare but significant\n",
    "   - Certain levels show higher evolution activity\n",
    "\n",
    "3. **Type/Attribute Stability**:\n",
    "   - Types show moderate stability through evolution\n",
    "   - Attributes tend to be more stable than types\n",
    "   - Specific type/attribute changes follow patterns\n",
    "\n",
    "4. **Network Characteristics**:\n",
    "   - Evolution network shows hub-and-spoke patterns\n",
    "   - Some Digimon are evolution \"dead ends\" with no further forms\n",
    "   - Branching evolution creates complex relationship networks\n",
    "\n",
    "These insights provide foundation for understanding Digimon evolution mechanics and relationships."
   ]
  },
  {
   "cell_type": "code",
   "execution_count": null,
   "metadata": {},
   "outputs": [],
   "source": [
    "# Close database connection\n",
    "conn.close()\n",
    "print(\"Evolution analysis complete! Database connection closed.\")"
   ]
  }
 ],
 "metadata": {
  "kernelspec": {
   "display_name": "Python 3",
   "language": "python",
   "name": "python3"
  },
  "language_info": {
   "codemirror_mode": {
    "name": "ipython",
    "version": 3
   },
   "file_extension": ".py",
   "mimetype": "text/x-python",
   "name": "python",
   "nbconvert_exporter": "python",
   "pygments_lexer": "ipython3",
   "version": "3.12.0"
  }
 },
 "nbformat": 4,
 "nbformat_minor": 4
}
