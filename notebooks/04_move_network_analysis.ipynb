{
 "cells": [
  {
   "cell_type": "markdown",
   "metadata": {},
   "source": [
    "# Notebook 04: Move Network Analysis\n",
    "\n",
    "**Objective**: Analyze special move relationships and patterns in the Digimon Knowledge Graph.\n",
    "\n",
    "This notebook explores:\n",
    "- Move statistics and distribution\n",
    "- Move-based clustering and similarity\n",
    "- Move evolution and inheritance patterns\n",
    "- Network analysis of move relationships\n",
    "\n",
    "---"
   ]
  },
  {
   "cell_type": "markdown",
   "metadata": {},
   "source": [
    "## 1. Setup and Imports"
   ]
  },
  {
   "cell_type": "code",
   "metadata": {
    "ExecuteTime": {
     "end_time": "2025-08-12T01:19:57.071174Z",
     "start_time": "2025-08-12T01:19:56.579699Z"
    }
   },
   "source": "# Standard imports\nimport pandas as pd\nimport numpy as np\nimport matplotlib.pyplot as plt\nimport seaborn as sns\nimport networkx as nx\nfrom collections import Counter, defaultdict\nfrom sklearn.preprocessing import StandardScaler\nfrom sklearn.metrics.pairwise import cosine_similarity\nfrom sklearn.metrics import jaccard_score\nfrom sklearn.cluster import AgglomerativeClustering\nfrom scipy.cluster.hierarchy import dendrogram, linkage\nfrom scipy.spatial.distance import pdist, squareform\nimport warnings\nwarnings.filterwarnings('ignore')\n\n# Custom utilities\nfrom utils import (\n    Neo4jConnector,\n    plot_network_interactive, plot_network_static,\n    plot_heatmap, save_figure,\n    calculate_basic_metrics, find_cliques,\n    TYPE_COLORS, LEVEL_COLORS\n)\n\n# Display settings\npd.set_option('display.max_columns', None)\npd.set_option('display.max_rows', 100)\n\n# Set notebook name for organized output\nnotebook_name = \"04_move_network_analysis\"\n\nprint(\"Environment setup complete!\")",
   "outputs": [],
   "execution_count": null
  },
  {
   "cell_type": "markdown",
   "metadata": {},
   "source": [
    "## 2. Load Move Data"
   ]
  },
  {
   "cell_type": "code",
   "metadata": {
    "ExecuteTime": {
     "end_time": "2025-08-12T01:19:58.812660Z",
     "start_time": "2025-08-12T01:19:58.560372Z"
    }
   },
   "source": [
    "# Connect to database\n",
    "conn = Neo4jConnector()\n",
    "print(\"Connected to Neo4j database\")\n",
    "\n",
    "# Get all Digimon data\n",
    "digimon_df = conn.get_all_digimon()\n",
    "print(f\"Loaded {len(digimon_df)} Digimon\")\n",
    "\n",
    "# Get move data\n",
    "moves_df = conn.get_digimon_moves()\n",
    "print(f\"\\nLoaded {len(moves_df)} Digimon-Move relationships\")\n",
    "print(f\"Unique moves: {moves_df['move'].nunique()}\")\n",
    "print(f\"Digimon with moves: {moves_df['digimon'].nunique()}\")"
   ],
   "outputs": [
    {
     "name": "stdout",
     "output_type": "stream",
     "text": [
      "Connected to Neo4j database\n",
      "Loaded 1258 Digimon\n",
      "\n",
      "Loaded 2433 Digimon-Move relationships\n",
      "Unique moves: 2133\n",
      "Digimon with moves: 1242\n"
     ]
    }
   ],
   "execution_count": 4
  },
  {
   "cell_type": "code",
   "metadata": {
    "ExecuteTime": {
     "end_time": "2025-08-12T01:20:01.906921Z",
     "start_time": "2025-08-12T01:20:01.899673Z"
    }
   },
   "source": [
    "# Display sample move data\n",
    "print(\"Sample move data:\")\n",
    "moves_df.head(10)"
   ],
   "outputs": [
    {
     "name": "stdout",
     "output_type": "stream",
     "text": [
      "Sample move data:\n"
     ]
    },
    {
     "data": {
      "text/plain": [
       "         digimon              move move_jp\n",
       "0      ABBADOMON       Garliteness    None\n",
       "1      ABBADOMON       Gaze Eraser    None\n",
       "2      ABBADOMON       White Liner    None\n",
       "3  ABBADOMONCORE         Bingelado    None\n",
       "4  ABBADOMONCORE      Death Charge    None\n",
       "5  ABBADOMONCORE      Eclipse Noon    None\n",
       "6  ABBADOMONCORE       Gaze Eraser    None\n",
       "7    ACHILLESMON  Anemone Dalmènos    None\n",
       "8    ACHILLESMON        Asteroidis    None\n",
       "9    ACHILLESMON    Ronhi Adistact    None"
      ],
      "text/html": [
       "<div>\n",
       "<style scoped>\n",
       "    .dataframe tbody tr th:only-of-type {\n",
       "        vertical-align: middle;\n",
       "    }\n",
       "\n",
       "    .dataframe tbody tr th {\n",
       "        vertical-align: top;\n",
       "    }\n",
       "\n",
       "    .dataframe thead th {\n",
       "        text-align: right;\n",
       "    }\n",
       "</style>\n",
       "<table border=\"1\" class=\"dataframe\">\n",
       "  <thead>\n",
       "    <tr style=\"text-align: right;\">\n",
       "      <th></th>\n",
       "      <th>digimon</th>\n",
       "      <th>move</th>\n",
       "      <th>move_jp</th>\n",
       "    </tr>\n",
       "  </thead>\n",
       "  <tbody>\n",
       "    <tr>\n",
       "      <th>0</th>\n",
       "      <td>ABBADOMON</td>\n",
       "      <td>Garliteness</td>\n",
       "      <td>None</td>\n",
       "    </tr>\n",
       "    <tr>\n",
       "      <th>1</th>\n",
       "      <td>ABBADOMON</td>\n",
       "      <td>Gaze Eraser</td>\n",
       "      <td>None</td>\n",
       "    </tr>\n",
       "    <tr>\n",
       "      <th>2</th>\n",
       "      <td>ABBADOMON</td>\n",
       "      <td>White Liner</td>\n",
       "      <td>None</td>\n",
       "    </tr>\n",
       "    <tr>\n",
       "      <th>3</th>\n",
       "      <td>ABBADOMONCORE</td>\n",
       "      <td>Bingelado</td>\n",
       "      <td>None</td>\n",
       "    </tr>\n",
       "    <tr>\n",
       "      <th>4</th>\n",
       "      <td>ABBADOMONCORE</td>\n",
       "      <td>Death Charge</td>\n",
       "      <td>None</td>\n",
       "    </tr>\n",
       "    <tr>\n",
       "      <th>5</th>\n",
       "      <td>ABBADOMONCORE</td>\n",
       "      <td>Eclipse Noon</td>\n",
       "      <td>None</td>\n",
       "    </tr>\n",
       "    <tr>\n",
       "      <th>6</th>\n",
       "      <td>ABBADOMONCORE</td>\n",
       "      <td>Gaze Eraser</td>\n",
       "      <td>None</td>\n",
       "    </tr>\n",
       "    <tr>\n",
       "      <th>7</th>\n",
       "      <td>ACHILLESMON</td>\n",
       "      <td>Anemone Dalmènos</td>\n",
       "      <td>None</td>\n",
       "    </tr>\n",
       "    <tr>\n",
       "      <th>8</th>\n",
       "      <td>ACHILLESMON</td>\n",
       "      <td>Asteroidis</td>\n",
       "      <td>None</td>\n",
       "    </tr>\n",
       "    <tr>\n",
       "      <th>9</th>\n",
       "      <td>ACHILLESMON</td>\n",
       "      <td>Ronhi Adistact</td>\n",
       "      <td>None</td>\n",
       "    </tr>\n",
       "  </tbody>\n",
       "</table>\n",
       "</div>"
      ]
     },
     "execution_count": 5,
     "metadata": {},
     "output_type": "execute_result"
    }
   ],
   "execution_count": 5
  },
  {
   "cell_type": "markdown",
   "metadata": {},
   "source": [
    "## 3. Move Statistics"
   ]
  },
  {
   "cell_type": "code",
   "metadata": {
    "ExecuteTime": {
     "end_time": "2025-08-12T01:20:03.953482Z",
     "start_time": "2025-08-12T01:20:03.944848Z"
    }
   },
   "source": [
    "# Move frequency distribution\n",
    "move_counts = moves_df['move'].value_counts()\n",
    "\n",
    "print(\"=== MOVE FREQUENCY STATISTICS ===\")\n",
    "print(f\"Total unique moves: {len(move_counts)}\")\n",
    "print(f\"Average Digimon per move: {move_counts.mean():.2f}\")\n",
    "print(f\"Median Digimon per move: {move_counts.median():.0f}\")\n",
    "print(f\"Most common move: {move_counts.index[0]} ({move_counts.iloc[0]} Digimon)\")\n",
    "print(f\"Rarest moves: {(move_counts == 1).sum()} moves used by only 1 Digimon\")\n",
    "\n",
    "print(\"\\nTop 15 most common moves:\")\n",
    "for move, count in move_counts.head(15).items():\n",
    "    print(f\"  {move}: {count} Digimon\")"
   ],
   "outputs": [
    {
     "name": "stdout",
     "output_type": "stream",
     "text": [
      "=== MOVE FREQUENCY STATISTICS ===\n",
      "Total unique moves: 2133\n",
      "Average Digimon per move: 1.14\n",
      "Median Digimon per move: 1\n",
      "Most common move: Acid foam (13 Digimon)\n",
      "Rarest moves: 1909 moves used by only 1 Digimon\n",
      "\n",
      "Top 15 most common moves:\n",
      "  Acid foam: 13 Digimon\n",
      "  Three Victorise: 6 Digimon\n",
      "  Petit Twister: 5 Digimon\n",
      "  Mega Flame: 5 Digimon\n",
      "  Baby Flame: 5 Digimon\n",
      "  Burning Star Crusher: 5 Digimon\n",
      "  Giga Destroyer: 5 Digimon\n",
      "  Fusion: 4 Digimon\n",
      "  Kaiser Nail: 4 Digimon\n",
      "  Exhaust Flame: 4 Digimon\n",
      "  Hellfire: 4 Digimon\n",
      "  Plasma Blade: 4 Digimon\n",
      "  Garuru Canon: 4 Digimon\n",
      "  Poop throw: 4 Digimon\n",
      "  Grey Sword: 4 Digimon\n"
     ]
    }
   ],
   "execution_count": 6
  },
  {
   "cell_type": "code",
   "metadata": {
    "ExecuteTime": {
     "end_time": "2025-08-12T01:20:08.944281Z",
     "start_time": "2025-08-12T01:20:08.935149Z"
    }
   },
   "source": [
    "# Moves per Digimon statistics\n",
    "digimon_move_counts = moves_df.groupby('digimon')['move'].count()\n",
    "\n",
    "print(\"\\n=== MOVES PER DIGIMON STATISTICS ===\")\n",
    "print(f\"Average moves per Digimon: {digimon_move_counts.mean():.2f}\")\n",
    "print(f\"Median moves per Digimon: {digimon_move_counts.median():.0f}\")\n",
    "print(f\"Max moves: {digimon_move_counts.max()} (by {digimon_move_counts.idxmax()})\")\n",
    "print(f\"Min moves: {digimon_move_counts.min()}\")\n",
    "\n",
    "# Distribution of move counts\n",
    "move_count_dist = digimon_move_counts.value_counts().sort_index()\n",
    "print(\"\\nDistribution of move counts:\")\n",
    "for num_moves, count in move_count_dist.head(10).items():\n",
    "    print(f\"  {num_moves} moves: {count} Digimon\")"
   ],
   "outputs": [
    {
     "name": "stdout",
     "output_type": "stream",
     "text": [
      "\n",
      "=== MOVES PER DIGIMON STATISTICS ===\n",
      "Average moves per Digimon: 1.96\n",
      "Median moves per Digimon: 2\n",
      "Max moves: 8 (by HI-VISIONMONITAMON)\n",
      "Min moves: 1\n",
      "\n",
      "Distribution of move counts:\n",
      "  1 moves: 426 Digimon\n",
      "  2 moves: 512 Digimon\n",
      "  3 moves: 261 Digimon\n",
      "  4 moves: 27 Digimon\n",
      "  5 moves: 7 Digimon\n",
      "  6 moves: 7 Digimon\n",
      "  7 moves: 1 Digimon\n",
      "  8 moves: 1 Digimon\n"
     ]
    }
   ],
   "execution_count": 7
  },
  {
   "cell_type": "code",
   "metadata": {
    "ExecuteTime": {
     "end_time": "2025-08-12T01:20:14.195582Z",
     "start_time": "2025-08-12T01:20:14.176237Z"
    }
   },
   "source": [
    "# Move diversity by type and level\n",
    "# Merge with Digimon data\n",
    "moves_with_info = moves_df.merge(\n",
    "    digimon_df[['name_en', 'type', 'level', 'attribute']], \n",
    "    left_on='digimon', \n",
    "    right_on='name_en'\n",
    ")\n",
    "\n",
    "# Move diversity by type\n",
    "type_move_diversity = moves_with_info.groupby('type')['move'].nunique().sort_values(ascending=False)\n",
    "print(\"\\n=== MOVE DIVERSITY BY TYPE (Top 15) ===\")\n",
    "for type_name, unique_moves in type_move_diversity.head(15).items():\n",
    "    type_count = digimon_df[digimon_df['type'] == type_name].shape[0]\n",
    "    print(f\"  {type_name}: {unique_moves} unique moves ({type_count} Digimon)\")\n",
    "\n",
    "# Move diversity by level\n",
    "level_move_diversity = moves_with_info.groupby('level')['move'].nunique()\n",
    "level_order = ['Baby', 'In-Training', 'Rookie', 'Champion', 'Ultimate', 'Mega', 'Ultra']\n",
    "level_move_diversity = level_move_diversity.reindex(level_order, fill_value=0)\n",
    "\n",
    "print(\"\\n=== MOVE DIVERSITY BY LEVEL ===\")\n",
    "for level, unique_moves in level_move_diversity.items():\n",
    "    level_count = digimon_df[digimon_df['level'] == level].shape[0]\n",
    "    print(f\"  {level}: {unique_moves} unique moves ({level_count} Digimon)\")"
   ],
   "outputs": [
    {
     "name": "stdout",
     "output_type": "stream",
     "text": [
      "\n",
      "=== MOVE DIVERSITY BY TYPE (Top 15) ===\n",
      "  cyborg Type: 182 unique moves (98 Digimon)\n",
      "  Puppet Type: 99 unique moves (48 Digimon)\n",
      "  God Type: 94 unique moves (38 Digimon)\n",
      "  mutation Type: 93 unique moves (56 Digimon)\n",
      "  Demon Type: 75 unique moves (39 Digimon)\n",
      "  Beastman Type: 67 unique moves (38 Digimon)\n",
      "  beast Type: 66 unique moves (39 Digimon)\n",
      "  Machine Type: 66 unique moves (41 Digimon)\n",
      "  Holy Knight Type: 64 unique moves (35 Digimon)\n",
      "  Dragon Type: 62 unique moves (27 Digimon)\n",
      "  insect Type: 59 unique moves (41 Digimon)\n",
      "  fairy Type: 54 unique moves (24 Digimon)\n",
      "  Demon Beast Type: 47 unique moves (25 Digimon)\n",
      "  Holy Beast Type: 45 unique moves (31 Digimon)\n",
      "  Undead Type: 42 unique moves (22 Digimon)\n",
      "\n",
      "=== MOVE DIVERSITY BY LEVEL ===\n",
      "  Baby: 0 unique moves (0 Digimon)\n",
      "  In-Training: 0 unique moves (0 Digimon)\n",
      "  Rookie: 222 unique moves (146 Digimon)\n",
      "  Champion: 388 unique moves (243 Digimon)\n",
      "  Ultimate: 450 unique moves (248 Digimon)\n",
      "  Mega: 653 unique moves (328 Digimon)\n",
      "  Ultra: 0 unique moves (0 Digimon)\n"
     ]
    }
   ],
   "execution_count": 8
  },
  {
   "cell_type": "markdown",
   "metadata": {},
   "source": [
    "## 4. Move-based Clustering"
   ]
  },
  {
   "cell_type": "code",
   "metadata": {
    "ExecuteTime": {
     "end_time": "2025-08-12T01:20:29.179141Z",
     "start_time": "2025-08-12T01:20:29.138494Z"
    }
   },
   "source": [
    "# Create Digimon-Move matrix for similarity analysis\n",
    "digimon_move_matrix = moves_df.pivot_table(\n",
    "    index='digimon', \n",
    "    columns='move', \n",
    "    values='move',\n",
    "    aggfunc='count',\n",
    "    fill_value=0\n",
    ")\n",
    "\n",
    "# Convert to binary (has move or not)\n",
    "digimon_move_binary = (digimon_move_matrix > 0).astype(int)\n",
    "\n",
    "print(f\"Digimon-Move matrix shape: {digimon_move_binary.shape}\")\n",
    "print(f\"Sparsity: {(digimon_move_binary == 0).sum().sum() / (digimon_move_binary.shape[0] * digimon_move_binary.shape[1]) * 100:.2f}%\")"
   ],
   "outputs": [
    {
     "name": "stdout",
     "output_type": "stream",
     "text": [
      "Digimon-Move matrix shape: (1242, 2133)\n",
      "Sparsity: 100.00%\n"
     ]
    }
   ],
   "execution_count": 9
  },
  {
   "cell_type": "code",
   "metadata": {
    "ExecuteTime": {
     "end_time": "2025-08-12T01:20:32.824752Z",
     "start_time": "2025-08-12T01:20:32.798156Z"
    }
   },
   "source": [
    "# Calculate Jaccard similarity between Digimon based on moves\n",
    "# Sample for computational efficiency\n",
    "sample_size = min(100, len(digimon_move_binary))\n",
    "sample_digimon = digimon_move_binary.sample(n=sample_size, random_state=42)\n",
    "\n",
    "# Calculate pairwise Jaccard distances\n",
    "jaccard_distances = pdist(sample_digimon.values, metric='jaccard')\n",
    "jaccard_similarity = 1 - squareform(jaccard_distances)\n",
    "\n",
    "# Create similarity DataFrame\n",
    "similarity_df = pd.DataFrame(\n",
    "    jaccard_similarity,\n",
    "    index=sample_digimon.index,\n",
    "    columns=sample_digimon.index\n",
    ")\n",
    "\n",
    "print(f\"Calculated Jaccard similarity for {sample_size} Digimon\")\n",
    "\n",
    "# Find most similar pairs\n",
    "similarity_upper = similarity_df.where(\n",
    "    np.triu(np.ones(similarity_df.shape), k=1).astype(bool)\n",
    ")\n",
    "similar_pairs = similarity_upper.stack().sort_values(ascending=False)\n",
    "\n",
    "print(\"\\n=== MOST SIMILAR DIGIMON (by moves) ===\")\n",
    "for (dig1, dig2), similarity in similar_pairs.head(10).items():\n",
    "    shared_moves = set(moves_df[moves_df['digimon'] == dig1]['move']) & \\\n",
    "                   set(moves_df[moves_df['digimon'] == dig2]['move'])\n",
    "    print(f\"{dig1} - {dig2}: {similarity:.3f} similarity ({len(shared_moves)} shared moves)\")"
   ],
   "outputs": [
    {
     "name": "stdout",
     "output_type": "stream",
     "text": [
      "Calculated Jaccard similarity for 100 Digimon\n",
      "\n",
      "=== MOST SIMILAR DIGIMON (by moves) ===\n",
      "PUSURIMON - SHINEGREYMON： RUINMODE: 1.000 similarity (0 shared moves)\n",
      "MASTERTYRANOMON - ARKADIMON: 1.000 similarity (0 shared moves)\n",
      "MASTERTYRANOMON - KABUTERIMON: 1.000 similarity (0 shared moves)\n",
      "MASTERTYRANOMON - CALAMARAMON: 1.000 similarity (0 shared moves)\n",
      "MASTERTYRANOMON - KABUKIMON: 1.000 similarity (0 shared moves)\n",
      "MASTERTYRANOMON - LEOMON: 1.000 similarity (0 shared moves)\n",
      "MASTERTYRANOMON - HEXEBLAUMON: 1.000 similarity (0 shared moves)\n",
      "MASTERTYRANOMON - GODDRAMON: 1.000 similarity (0 shared moves)\n",
      "MASTERTYRANOMON - DOMINIMON: 1.000 similarity (0 shared moves)\n",
      "MASTERTYRANOMON - DOGMON: 1.000 similarity (0 shared moves)\n"
     ]
    }
   ],
   "execution_count": 10
  },
  {
   "cell_type": "code",
   "metadata": {
    "ExecuteTime": {
     "end_time": "2025-08-12T01:20:46.435244Z",
     "start_time": "2025-08-12T01:20:43.884408Z"
    }
   },
   "source": "# Hierarchical clustering based on moves\nlinkage_matrix = linkage(jaccard_distances, method='ward')\n\n# Create dendrogram\nfig, ax = plt.subplots(figsize=(15, 8))\ndendrogram(linkage_matrix, labels=sample_digimon.index.tolist(), \n           leaf_rotation=90, leaf_font_size=8, ax=ax)\nax.set_title('Digimon Clustering by Move Similarity (Sample)', fontsize=16, fontweight='bold')\nax.set_xlabel('Digimon')\nax.set_ylabel('Distance')\nplt.tight_layout()\nsave_figure(fig, \"digimon_move_dendrogram\", notebook_name=notebook_name)\nplt.show()\n\n# Extract clusters\nn_clusters = 5\nclusters = AgglomerativeClustering(n_clusters=n_clusters, linkage='ward')\ncluster_labels = clusters.fit_predict(1 - jaccard_similarity)\n\n# Analyze clusters\ncluster_df = pd.DataFrame({\n    'digimon': sample_digimon.index,\n    'cluster': cluster_labels\n})\n\nprint(f\"\\n=== MOVE-BASED CLUSTERS ===\")\nfor cluster_id in range(n_clusters):\n    cluster_members = cluster_df[cluster_df['cluster'] == cluster_id]['digimon'].tolist()\n    print(f\"\\nCluster {cluster_id + 1} ({len(cluster_members)} members):\")\n    print(f\"  Members: {', '.join(cluster_members[:5])}{'...' if len(cluster_members) > 5 else ''}\")\n    \n    # Find characteristic moves for this cluster\n    cluster_moves = moves_df[moves_df['digimon'].isin(cluster_members)]['move'].value_counts()\n    cluster_move_pct = cluster_moves / len(cluster_members)\n    characteristic_moves = cluster_move_pct[cluster_move_pct > 0.5].head(5)\n    \n    if len(characteristic_moves) > 0:\n        print(f\"  Characteristic moves:\")\n        for move, pct in characteristic_moves.items():\n            print(f\"    - {move}: {pct:.1%} of cluster\")",
   "outputs": [],
   "execution_count": null
  },
  {
   "cell_type": "markdown",
   "metadata": {},
   "source": [
    "## 5. Move Evolution Analysis"
   ]
  },
  {
   "cell_type": "code",
   "metadata": {
    "ExecuteTime": {
     "end_time": "2025-08-12T01:21:01.679895Z",
     "start_time": "2025-08-12T01:21:00.404468Z"
    }
   },
   "source": [
    "# Get evolution data\n",
    "evolution_data = conn.get_evolution_chains()\n",
    "evolution_df = pd.DataFrame(evolution_data)\n",
    "\n",
    "# Analyze move inheritance through evolution\n",
    "move_inheritance = []\n",
    "\n",
    "for _, evo in evolution_df.iterrows():\n",
    "    from_digimon = evo['from_digimon']\n",
    "    to_digimon = evo['to_digimon']\n",
    "    \n",
    "    # Get moves for both Digimon\n",
    "    from_moves = set(moves_df[moves_df['digimon'] == from_digimon]['move'])\n",
    "    to_moves = set(moves_df[moves_df['digimon'] == to_digimon]['move'])\n",
    "    \n",
    "    if from_moves and to_moves:\n",
    "        inherited_moves = from_moves & to_moves\n",
    "        new_moves = to_moves - from_moves\n",
    "        lost_moves = from_moves - to_moves\n",
    "        \n",
    "        move_inheritance.append({\n",
    "            'from_digimon': from_digimon,\n",
    "            'to_digimon': to_digimon,\n",
    "            'total_from_moves': len(from_moves),\n",
    "            'total_to_moves': len(to_moves),\n",
    "            'inherited_moves': len(inherited_moves),\n",
    "            'new_moves': len(new_moves),\n",
    "            'lost_moves': len(lost_moves),\n",
    "            'inheritance_rate': len(inherited_moves) / len(from_moves) if from_moves else 0\n",
    "        })\n",
    "\n",
    "inheritance_df = pd.DataFrame(move_inheritance)\n",
    "\n",
    "print(\"=== MOVE EVOLUTION PATTERNS ===\")\n",
    "print(f\"Evolution pairs analyzed: {len(inheritance_df)}\")\n",
    "print(f\"\\nAverage move inheritance rate: {inheritance_df['inheritance_rate'].mean():.2%}\")\n",
    "print(f\"Average new moves gained: {inheritance_df['new_moves'].mean():.1f}\")\n",
    "print(f\"Average moves lost: {inheritance_df['lost_moves'].mean():.1f}\")\n",
    "\n",
    "# Examples of high inheritance\n",
    "high_inheritance = inheritance_df.nlargest(10, 'inheritance_rate')\n",
    "print(\"\\nEvolutions with highest move inheritance:\")\n",
    "for _, row in high_inheritance.iterrows():\n",
    "    if row['inheritance_rate'] > 0:\n",
    "        print(f\"  {row['from_digimon']} → {row['to_digimon']}: \"\n",
    "              f\"{row['inheritance_rate']:.0%} inherited ({row['inherited_moves']}/{row['total_from_moves']} moves)\")"
   ],
   "outputs": [
    {
     "name": "stdout",
     "output_type": "stream",
     "text": [
      "=== MOVE EVOLUTION PATTERNS ===\n",
      "Evolution pairs analyzed: 3685\n",
      "\n",
      "Average move inheritance rate: 2.58%\n",
      "Average new moves gained: 2.0\n",
      "Average moves lost: 1.9\n",
      "\n",
      "Evolutions with highest move inheritance:\n",
      "  RAPIDMON_GOLD → RAPIDMON: 100% inherited (2/2 moves)\n",
      "  RAPIDMON → RAPIDMON_GOLD: 100% inherited (2/2 moves)\n",
      "  GROWMON → BLACKGROWMON: 100% inherited (2/2 moves)\n",
      "  ANOMALOCARIMON → ANOMALOCARIMON-X: 100% inherited (1/1 moves)\n",
      "  MEICRACKMON_V → MEICRACKMON: 100% inherited (1/1 moves)\n",
      "  GUMMYMON → CHOCOMON: 100% inherited (1/1 moves)\n",
      "  ZERIMON → COCOMON: 100% inherited (1/1 moves)\n",
      "  CHOCOMON → GUMMYMON: 100% inherited (1/1 moves)\n",
      "  KNIGHTCHESSMON_BLACK → KNIGHTCHESSMON: 100% inherited (3/3 moves)\n",
      "  BLACKGROWMON → GROWMON_X: 100% inherited (2/2 moves)\n"
     ]
    }
   ],
   "execution_count": 12
  },
  {
   "cell_type": "code",
   "metadata": {
    "ExecuteTime": {
     "end_time": "2025-08-12T01:21:08.426322Z",
     "start_time": "2025-08-12T01:21:07.653760Z"
    }
   },
   "source": [
    "# Analyze signature moves (moves that persist through evolution)\n",
    "# Find evolution chains\n",
    "evolution_chains = defaultdict(list)\n",
    "\n",
    "# Build simple chains (2-3 stages)\n",
    "for _, evo in evolution_df.iterrows():\n",
    "    evolution_chains[evo['from_digimon']].append(evo['to_digimon'])\n",
    "\n",
    "# Find moves that persist through chains\n",
    "persistent_moves = Counter()\n",
    "chain_count = 0\n",
    "\n",
    "for start_digimon, evolutions in evolution_chains.items():\n",
    "    if evolutions:\n",
    "        # Get moves for start\n",
    "        start_moves = set(moves_df[moves_df['digimon'] == start_digimon]['move'])\n",
    "        \n",
    "        for evo_digimon in evolutions:\n",
    "            evo_moves = set(moves_df[moves_df['digimon'] == evo_digimon]['move'])\n",
    "            \n",
    "            # Find moves that persist\n",
    "            persisted = start_moves & evo_moves\n",
    "            for move in persisted:\n",
    "                persistent_moves[move] += 1\n",
    "            \n",
    "            chain_count += 1\n",
    "\n",
    "print(\"\\n=== SIGNATURE MOVES (Most Persistent) ===\")\n",
    "print(f\"Analyzed {chain_count} evolution relationships\")\n",
    "print(\"\\nMoves that persist through evolution:\")\n",
    "for move, count in persistent_moves.most_common(15):\n",
    "    persistence_rate = count / move_counts[move] if move in move_counts else 0\n",
    "    print(f\"  {move}: persists in {count} evolutions ({persistence_rate:.1%} of users)\")"
   ],
   "outputs": [
    {
     "name": "stdout",
     "output_type": "stream",
     "text": [
      "\n",
      "=== SIGNATURE MOVES (Most Persistent) ===\n",
      "Analyzed 3746 evolution relationships\n",
      "\n",
      "Moves that persist through evolution:\n",
      "  Fusion: persists in 12 evolutions (300.0% of users)\n",
      "  Plasma Blade: persists in 6 evolutions (150.0% of users)\n",
      "  Exhaust Flame: persists in 6 evolutions (150.0% of users)\n",
      "  Justice Kick: persists in 6 evolutions (200.0% of users)\n",
      "  Trinity Arm: persists in 6 evolutions (200.0% of users)\n",
      "  Atomic Blaster: persists in 5 evolutions (125.0% of users)\n",
      "  Implementation: persists in 5 evolutions (166.7% of users)\n",
      "  Three Victorise: persists in 5 evolutions (83.3% of users)\n",
      "  Rapid Fire: persists in 4 evolutions (133.3% of users)\n",
      "  Golden Triangle: persists in 4 evolutions (133.3% of users)\n",
      "  Petit Twister: persists in 4 evolutions (80.0% of users)\n",
      "  Acid foam: persists in 4 evolutions (30.8% of users)\n",
      "  Kaiser Nail: persists in 4 evolutions (100.0% of users)\n",
      "  Double Edge: persists in 3 evolutions (100.0% of users)\n",
      "  Three Impact: persists in 3 evolutions (100.0% of users)\n"
     ]
    }
   ],
   "execution_count": 13
  },
  {
   "cell_type": "markdown",
   "metadata": {},
   "source": [
    "## 6. Move Network Analysis"
   ]
  },
  {
   "cell_type": "code",
   "metadata": {
    "ExecuteTime": {
     "end_time": "2025-08-12T01:21:23.273860Z",
     "start_time": "2025-08-12T01:21:23.088368Z"
    }
   },
   "source": [
    "# Create move co-occurrence network\n",
    "move_network = nx.Graph()\n",
    "\n",
    "# Add nodes (moves)\n",
    "all_moves = moves_df['move'].unique()\n",
    "move_network.add_nodes_from(all_moves)\n",
    "\n",
    "# Add edges based on co-occurrence\n",
    "move_cooccurrence = defaultdict(int)\n",
    "\n",
    "for digimon in moves_df['digimon'].unique():\n",
    "    digimon_moves = moves_df[moves_df['digimon'] == digimon]['move'].tolist()\n",
    "    \n",
    "    # Count co-occurrences\n",
    "    for i in range(len(digimon_moves)):\n",
    "        for j in range(i + 1, len(digimon_moves)):\n",
    "            move_pair = tuple(sorted([digimon_moves[i], digimon_moves[j]]))\n",
    "            move_cooccurrence[move_pair] += 1\n",
    "\n",
    "# Add edges with weight = co-occurrence count\n",
    "for (move1, move2), count in move_cooccurrence.items():\n",
    "    if count >= 5:  # Minimum threshold\n",
    "        move_network.add_edge(move1, move2, weight=count)\n",
    "\n",
    "print(f\"Move network created:\")\n",
    "print(f\"  Nodes (moves): {move_network.number_of_nodes()}\")\n",
    "print(f\"  Edges (co-occurrences): {move_network.number_of_edges()}\")\n",
    "\n",
    "# Basic network metrics\n",
    "network_metrics = calculate_basic_metrics(move_network)\n",
    "print(f\"\\nNetwork metrics:\")\n",
    "print(f\"  Density: {network_metrics['density']:.3f}\")\n",
    "print(f\"  Average degree: {network_metrics['average_degree']:.2f}\")\n",
    "print(f\"  Connected components: {network_metrics['num_components']}\")"
   ],
   "outputs": [
    {
     "name": "stdout",
     "output_type": "stream",
     "text": [
      "Move network created:\n",
      "  Nodes (moves): 2133\n",
      "  Edges (co-occurrences): 1\n",
      "\n",
      "Network metrics:\n",
      "  Density: 0.000\n",
      "  Average degree: 0.00\n",
      "  Connected components: 2132\n"
     ]
    }
   ],
   "execution_count": 14
  },
  {
   "cell_type": "code",
   "metadata": {
    "ExecuteTime": {
     "end_time": "2025-08-12T01:21:33.509232Z",
     "start_time": "2025-08-12T01:21:33.503016Z"
    }
   },
   "source": [
    "# Find move communities (moves that often appear together)\n",
    "# Get largest connected component\n",
    "largest_component = max(nx.connected_components(move_network), key=len)\n",
    "move_subgraph = move_network.subgraph(largest_component).copy()\n",
    "\n",
    "# Find cliques (groups of moves that all co-occur)\n",
    "move_cliques = find_cliques(move_subgraph, min_size=3)\n",
    "\n",
    "print(\"=== MOVE COMMUNITIES (Cliques) ===\")\n",
    "print(f\"Found {len(move_cliques)} cliques of size 3+\\n\")\n",
    "\n",
    "# Display largest cliques\n",
    "sorted_cliques = sorted(move_cliques, key=len, reverse=True)\n",
    "for i, clique in enumerate(sorted_cliques[:10]):\n",
    "    clique_moves = list(clique)\n",
    "    print(f\"Clique {i+1} ({len(clique_moves)} moves): {', '.join(clique_moves)}\")\n",
    "    \n",
    "    # Find Digimon that have all these moves\n",
    "    digimon_with_all = []\n",
    "    for digimon in moves_df['digimon'].unique():\n",
    "        digimon_moves = set(moves_df[moves_df['digimon'] == digimon]['move'])\n",
    "        if clique.issubset(digimon_moves):\n",
    "            digimon_with_all.append(digimon)\n",
    "    \n",
    "    if digimon_with_all:\n",
    "        print(f\"  Used by: {', '.join(digimon_with_all[:5])}{'...' if len(digimon_with_all) > 5 else ''}\")\n",
    "    print()"
   ],
   "outputs": [
    {
     "name": "stdout",
     "output_type": "stream",
     "text": [
      "=== MOVE COMMUNITIES (Cliques) ===\n",
      "Found 0 cliques of size 3+\n",
      "\n"
     ]
    }
   ],
   "execution_count": 15
  },
  {
   "cell_type": "code",
   "metadata": {
    "ExecuteTime": {
     "end_time": "2025-08-12T01:21:36.764022Z",
     "start_time": "2025-08-12T01:21:35.552407Z"
    }
   },
   "source": [
    "# Identify central moves in the network\n",
    "degree_centrality = nx.degree_centrality(move_network)\n",
    "betweenness_centrality = nx.betweenness_centrality(move_network, weight='weight')\n",
    "\n",
    "# Sort by centrality\n",
    "top_degree_moves = sorted(degree_centrality.items(), key=lambda x: x[1], reverse=True)[:10]\n",
    "top_betweenness_moves = sorted(betweenness_centrality.items(), key=lambda x: x[1], reverse=True)[:10]\n",
    "\n",
    "print(\"=== CENTRAL MOVES IN NETWORK ===\")\n",
    "print(\"\\nMost connected moves (high degree centrality):\")\n",
    "for move, centrality in top_degree_moves:\n",
    "    connections = move_network.degree(move)\n",
    "    print(f\"  {move}: {connections} connections (centrality: {centrality:.3f})\")\n",
    "\n",
    "print(\"\\nBridge moves (high betweenness centrality):\")\n",
    "for move, centrality in top_betweenness_moves:\n",
    "    print(f\"  {move}: betweenness {centrality:.3f}\")"
   ],
   "outputs": [
    {
     "name": "stdout",
     "output_type": "stream",
     "text": [
      "=== CENTRAL MOVES IN NETWORK ===\n",
      "\n",
      "Most connected moves (high degree centrality):\n",
      "  Three Victorise: 1 connections (centrality: 0.000)\n",
      "  Burning Star Crusher: 1 connections (centrality: 0.000)\n",
      "  Garliteness: 0 connections (centrality: 0.000)\n",
      "  Gaze Eraser: 0 connections (centrality: 0.000)\n",
      "  White Liner: 0 connections (centrality: 0.000)\n",
      "  Bingelado: 0 connections (centrality: 0.000)\n",
      "  Death Charge: 0 connections (centrality: 0.000)\n",
      "  Eclipse Noon: 0 connections (centrality: 0.000)\n",
      "  Anemone Dalmènos: 0 connections (centrality: 0.000)\n",
      "  Asteroidis: 0 connections (centrality: 0.000)\n",
      "\n",
      "Bridge moves (high betweenness centrality):\n",
      "  Garliteness: betweenness 0.000\n",
      "  Gaze Eraser: betweenness 0.000\n",
      "  White Liner: betweenness 0.000\n",
      "  Bingelado: betweenness 0.000\n",
      "  Death Charge: betweenness 0.000\n",
      "  Eclipse Noon: betweenness 0.000\n",
      "  Anemone Dalmènos: betweenness 0.000\n",
      "  Asteroidis: betweenness 0.000\n",
      "  Ronhi Adistact: betweenness 0.000\n",
      "  Bolt Break Knockdown: betweenness 0.000\n"
     ]
    }
   ],
   "execution_count": 16
  },
  {
   "cell_type": "markdown",
   "metadata": {},
   "source": [
    "## 7. Visualizations"
   ]
  },
  {
   "cell_type": "code",
   "metadata": {
    "ExecuteTime": {
     "end_time": "2025-08-12T01:21:43.520312Z",
     "start_time": "2025-08-12T01:21:41.813026Z"
    }
   },
   "source": "# Move frequency distribution\nfig, (ax1, ax2) = plt.subplots(1, 2, figsize=(15, 6))\n\n# Histogram of move frequencies\nax1.hist(move_counts.values, bins=50, edgecolor='black', alpha=0.7)\nax1.set_xlabel('Number of Digimon using move')\nax1.set_ylabel('Number of moves')\nax1.set_title('Move Frequency Distribution', fontsize=14, fontweight='bold')\nax1.set_yscale('log')\n\n# Top moves bar chart\ntop_moves = move_counts.head(15)\nbars = ax2.bar(range(len(top_moves)), top_moves.values, \n                color=sns.color_palette('viridis', len(top_moves)))\nax2.set_xticks(range(len(top_moves)))\nax2.set_xticklabels(top_moves.index, rotation=45, ha='right')\nax2.set_ylabel('Number of Digimon')\nax2.set_title('Top 15 Most Common Moves', fontsize=14, fontweight='bold')\n\n# Add value labels\nfor bar in bars:\n    height = bar.get_height()\n    ax2.text(bar.get_x() + bar.get_width()/2., height,\n             f'{int(height)}', ha='center', va='bottom', fontsize=8)\n\nplt.tight_layout()\nsave_figure(fig, \"move_frequency_analysis\", notebook_name=notebook_name)\nplt.show()",
   "outputs": [],
   "execution_count": null
  },
  {
   "cell_type": "code",
   "metadata": {
    "ExecuteTime": {
     "end_time": "2025-08-12T01:21:56.922820Z",
     "start_time": "2025-08-12T01:21:56.116217Z"
    }
   },
   "source": "# Move diversity by level visualization\nfig, ax = plt.subplots(figsize=(10, 6))\n\n# Calculate average moves per Digimon by level\navg_moves_by_level = moves_with_info.groupby('level')['move'].count() / \\\n                     moves_with_info.groupby('level')['digimon'].nunique()\navg_moves_by_level = avg_moves_by_level.reindex(level_order, fill_value=0)\n\ncolors = [LEVEL_COLORS.get(level, '#808080') for level in level_order]\nbars = ax.bar(level_order, avg_moves_by_level.values, color=colors)\n\nax.set_xlabel('Level')\nax.set_ylabel('Average Moves per Digimon')\nax.set_title('Move Complexity by Evolution Level', fontsize=16, fontweight='bold')\n\n# Add value labels\nfor bar in bars:\n    height = bar.get_height()\n    ax.text(bar.get_x() + bar.get_width()/2., height,\n            f'{height:.1f}', ha='center', va='bottom')\n\nplt.tight_layout()\nsave_figure(fig, \"move_complexity_by_level\", notebook_name=notebook_name)\nplt.show()",
   "outputs": [],
   "execution_count": null
  },
  {
   "cell_type": "code",
   "metadata": {
    "ExecuteTime": {
     "end_time": "2025-08-12T01:22:03.782063Z",
     "start_time": "2025-08-12T01:22:01.636411Z"
    }
   },
   "source": "# Move similarity heatmap (sample)\nfig, ax = plt.subplots(figsize=(12, 10))\n\n# Sample similarity matrix for visualization\nsample_sim = similarity_df.iloc[:30, :30]\n\nsns.heatmap(sample_sim, cmap='YlOrRd', square=True, \n            cbar_kws={'label': 'Jaccard Similarity'},\n            xticklabels=True, yticklabels=True, ax=ax)\n\nax.set_title('Digimon Move Similarity Matrix (Sample)', fontsize=16, fontweight='bold')\nplt.setp(ax.get_xticklabels(), rotation=90, ha='right')\nplt.setp(ax.get_yticklabels(), rotation=0)\n\nplt.tight_layout()\nsave_figure(fig, \"move_similarity_heatmap\", notebook_name=notebook_name)\nplt.show()",
   "outputs": [],
   "execution_count": null
  },
  {
   "cell_type": "code",
   "metadata": {
    "ExecuteTime": {
     "end_time": "2025-08-12T01:22:40.983975Z",
     "start_time": "2025-08-12T01:22:38.568572Z"
    }
   },
   "source": "# Move network visualization (subset)\n# Create subgraph of most connected moves\ntop_degree_nodes = [node for node, _ in sorted(degree_centrality.items(), \n                                               key=lambda x: x[1], reverse=True)[:50]]\nmove_subgraph = move_network.subgraph(top_degree_nodes).copy()\n\n# Create visualization\nfig = plot_network_static(\n    move_subgraph,\n    title=\"Move Co-occurrence Network (Top 50 Moves)\",\n    layout='spring',\n    figsize=(15, 15)\n)\nsave_figure(fig, \"move_cooccurrence_network\", notebook_name=notebook_name)\nplt.show()",
   "outputs": [],
   "execution_count": null
  },
  {
   "cell_type": "code",
   "metadata": {
    "ExecuteTime": {
     "end_time": "2025-08-12T01:23:02.090066Z",
     "start_time": "2025-08-12T01:23:00.627029Z"
    }
   },
   "source": "# Move inheritance visualization\nfig, (ax1, ax2) = plt.subplots(1, 2, figsize=(15, 6))\n\n# Inheritance rate distribution\nax1.hist(inheritance_df['inheritance_rate'], bins=20, edgecolor='black', alpha=0.7)\nax1.set_xlabel('Move Inheritance Rate')\nax1.set_ylabel('Number of Evolution Pairs')\nax1.set_title('Distribution of Move Inheritance Rates', fontsize=14, fontweight='bold')\nax1.axvline(inheritance_df['inheritance_rate'].mean(), color='red', \n           linestyle='--', label=f'Mean: {inheritance_df[\"inheritance_rate\"].mean():.2%}')\nax1.legend()\n\n# Move changes during evolution\nevolution_changes = pd.DataFrame({\n    'Inherited': inheritance_df['inherited_moves'].mean(),\n    'New': inheritance_df['new_moves'].mean(),\n    'Lost': inheritance_df['lost_moves'].mean()\n}, index=['Moves'])\n\nevolution_changes.plot(kind='bar', ax=ax2, color=['green', 'blue', 'red'])\nax2.set_ylabel('Average Number of Moves')\nax2.set_title('Average Move Changes During Evolution', fontsize=14, fontweight='bold')\nax2.set_xticklabels([''], rotation=0)\nax2.legend(loc='upper right')\n\n# Add value labels\nfor container in ax2.containers:\n    ax2.bar_label(container, fmt='%.1f')\n\nplt.tight_layout()\nsave_figure(fig, \"move_evolution_analysis\", notebook_name=notebook_name)\nplt.show()",
   "outputs": [],
   "execution_count": null
  },
  {
   "cell_type": "markdown",
   "metadata": {},
   "source": [
    "## 8. Export Results"
   ]
  },
  {
   "cell_type": "code",
   "metadata": {
    "ExecuteTime": {
     "end_time": "2025-08-12T01:23:10.165896Z",
     "start_time": "2025-08-12T01:23:10.143688Z"
    }
   },
   "source": "# Create results directory\nfrom pathlib import Path\nimport json\n\nresults_dir = Path(f'../results/{notebook_name}/data')\nresults_dir.mkdir(parents=True, exist_ok=True)\n\n# Prepare move statistics\nmove_statistics = {\n    'total_unique_moves': int(moves_df['move'].nunique()),\n    'total_digimon_with_moves': int(moves_df['digimon'].nunique()),\n    'total_move_relationships': len(moves_df),\n    'avg_moves_per_digimon': float(digimon_move_counts.mean()),\n    'max_moves_per_digimon': int(digimon_move_counts.max()),\n    'most_common_move': move_counts.index[0],\n    'rare_moves_count': int((move_counts == 1).sum()),\n    'avg_move_inheritance_rate': float(inheritance_df['inheritance_rate'].mean()),\n    'move_network_density': float(network_metrics['density']),\n    'move_network_components': int(network_metrics['num_components'])\n}\n\n# Save statistics\nwith open(results_dir / 'move_statistics.json', 'w') as f:\n    json.dump(move_statistics, f, indent=2)\n\n# Save move frequency data\nmove_counts.to_frame('count').reset_index().rename(columns={'index': 'move'}).to_csv(\n    results_dir / 'move_frequencies.csv', index=False\n)\n\n# Save inheritance analysis\ninheritance_df.to_csv(results_dir / 'move_inheritance_analysis.csv', index=False)\n\n# Save cluster assignments\ncluster_df.to_csv(results_dir / 'move_based_clusters.csv', index=False)\n\n# Save central moves\ncentral_moves_df = pd.DataFrame({\n    'move': [m for m, _ in top_degree_moves],\n    'degree_centrality': [c for _, c in top_degree_moves],\n    'betweenness_centrality': [betweenness_centrality.get(m, 0) for m, _ in top_degree_moves]\n})\ncentral_moves_df.to_csv(results_dir / 'central_moves.csv', index=False)\n\nprint(\"Move analysis results exported successfully!\")",
   "outputs": [],
   "execution_count": null
  },
  {
   "cell_type": "markdown",
   "metadata": {},
   "source": [
    "## Summary and Key Findings\n",
    "\n",
    "### Move Network Insights:\n",
    "\n",
    "1. **Move Distribution**:\n",
    "   - Wide variety of moves with heavy-tailed distribution\n",
    "   - Most moves are unique or used by few Digimon\n",
    "   - Some universal moves appear across many Digimon\n",
    "\n",
    "2. **Move-based Similarity**:\n",
    "   - Digimon cluster into groups based on shared movesets\n",
    "   - Move similarity often correlates with type/level\n",
    "   - Certain move combinations frequently co-occur\n",
    "\n",
    "3. **Evolution Patterns**:\n",
    "   - Moderate move inheritance through evolution\n",
    "   - Evolution typically adds new moves while retaining some core moves\n",
    "   - Signature moves persist through evolution chains\n",
    "\n",
    "4. **Network Structure**:\n",
    "   - Move co-occurrence network shows community structure\n",
    "   - Central moves act as bridges between different move groups\n",
    "   - Cliques reveal standard move combinations\n",
    "\n",
    "These insights reveal the complexity of the move system and how it relates to Digimon identity and evolution."
   ]
  },
  {
   "cell_type": "code",
   "metadata": {
    "ExecuteTime": {
     "end_time": "2025-08-12T01:23:15.373383Z",
     "start_time": "2025-08-12T01:23:15.369598Z"
    }
   },
   "source": [
    "# Close database connection\n",
    "conn.close()\n",
    "print(\"Move network analysis complete! Database connection closed.\")"
   ],
   "outputs": [
    {
     "name": "stdout",
     "output_type": "stream",
     "text": [
      "Move network analysis complete! Database connection closed.\n"
     ]
    }
   ],
   "execution_count": 23
  }
 ],
 "metadata": {
  "kernelspec": {
   "display_name": "Python 3",
   "language": "python",
   "name": "python3"
  },
  "language_info": {
   "codemirror_mode": {
    "name": "ipython",
    "version": 3
   },
   "file_extension": ".py",
   "mimetype": "text/x-python",
   "name": "python",
   "nbconvert_exporter": "python",
   "pygments_lexer": "ipython3",
   "version": "3.12.0"
  }
 },
 "nbformat": 4,
 "nbformat_minor": 4
}