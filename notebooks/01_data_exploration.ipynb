{
 "cells": [
  {
   "cell_type": "markdown",
   "metadata": {},
   "source": [
    "# Notebook 01: Data Exploration & Profiling\n",
    "\n",
    "**Objective**: Understand the dataset structure and basic statistics of the Digimon Knowledge Graph.\n",
    "\n",
    "This notebook performs:\n",
    "- Connection verification to Neo4j database\n",
    "- Data profiling and quality assessment\n",
    "- Statistical summaries of all entities\n",
    "- Initial visualizations of distributions\n",
    "\n",
    "---"
   ]
  },
  {
   "cell_type": "code",
   "source": "# Dependency check\nimport sys\n\ndef check_dependencies():\n    \"\"\"Check if all required packages are installed.\"\"\"\n    required_packages = [\n        'pandas', 'matplotlib', 'seaborn', 'plotly', \n        'networkx', 'sklearn', 'community', 'pyvis'\n    ]\n    \n    missing_packages = []\n    for package in required_packages:\n        try:\n            __import__(package)\n        except ImportError:\n            # Handle special case for python-louvain\n            if package == 'community':\n                try:\n                    __import__('community.community_louvain')\n                except ImportError:\n                    missing_packages.append('python-louvain')\n            else:\n                missing_packages.append(package)\n    \n    if missing_packages:\n        print(\"⚠️  Missing required packages:\")\n        for pkg in missing_packages:\n            print(f\"   - {pkg}\")\n        print(\"\\n📦 To install all dependencies, run:\")\n        print(\"   pip install -r requirements.txt\")\n        print(\"\\n   Or install individually:\")\n        print(f\"   pip install {' '.join(missing_packages)}\")\n        return False\n    else:\n        print(\"✅ All required packages are installed!\")\n        return True\n\n# Run dependency check\nif not check_dependencies():\n    print(\"\\n❌ Please install missing dependencies before continuing.\")\n    sys.exit(1)",
   "metadata": {
    "ExecuteTime": {
     "end_time": "2025-08-10T19:53:27.201700Z",
     "start_time": "2025-08-10T19:53:26.392805Z"
    }
   },
   "outputs": [],
   "execution_count": null
  },
  {
   "cell_type": "markdown",
   "metadata": {},
   "source": [
    "## 1. Setup and Imports"
   ]
  },
  {
   "cell_type": "code",
   "metadata": {
    "ExecuteTime": {
     "end_time": "2025-08-10T19:53:55.605257Z",
     "start_time": "2025-08-10T19:53:55.281825Z"
    }
   },
   "source": "# Standard imports\nimport pandas as pd\nimport matplotlib.pyplot as plt\nimport seaborn as sns\nfrom pathlib import Path\nimport json\nimport warnings\nwarnings.filterwarnings('ignore')\n\n# Custom utilities\nfrom utils import (\n    Neo4jConnector, test_connection,\n    plot_distribution, plot_heatmap, save_figure,\n    TYPE_COLORS, ATTRIBUTE_COLORS, LEVEL_COLORS\n)\n\n# Display settings\npd.set_option('display.max_columns', None)\npd.set_option('display.max_rows', 100)\npd.set_option('display.max_colwidth', 50)\n\n# Set notebook name for organized outputs\nnotebook_name = \"01_data_exploration\"\n\nprint(\"Environment setup complete!\")",
   "outputs": [],
   "execution_count": null
  },
  {
   "cell_type": "markdown",
   "metadata": {},
   "source": [
    "## 2. Database Connection"
   ]
  },
  {
   "cell_type": "code",
   "metadata": {
    "ExecuteTime": {
     "end_time": "2025-08-10T19:54:22.051696Z",
     "start_time": "2025-08-10T19:54:21.797361Z"
    }
   },
   "source": [
    "# Test connection\n",
    "print(\"Testing Neo4j connection...\")\n",
    "if test_connection():\n",
    "    print(\"✓ Connection successful!\")\n",
    "else:\n",
    "    print(\"✗ Connection failed. Please check your Neo4j instance.\")\n",
    "    raise ConnectionError(\"Cannot connect to Neo4j\")\n",
    "\n",
    "# Create connector instance\n",
    "conn = Neo4jConnector()\n",
    "print(\"\\nConnector initialized.\")"
   ],
   "outputs": [
    {
     "name": "stdout",
     "output_type": "stream",
     "text": [
      "Testing Neo4j connection...\n",
      "✓ Connection successful!\n",
      "\n",
      "Connector initialized.\n"
     ]
    }
   ],
   "execution_count": 6
  },
  {
   "cell_type": "markdown",
   "metadata": {},
   "source": [
    "## 3. Data Extraction and Profiling"
   ]
  },
  {
   "cell_type": "code",
   "metadata": {
    "ExecuteTime": {
     "end_time": "2025-08-10T19:56:22.690607Z",
     "start_time": "2025-08-10T19:56:22.662373Z"
    }
   },
   "source": [
    "# Get graph statistics\n",
    "print(\"Fetching graph statistics...\")\n",
    "stats = conn.get_graph_statistics()\n",
    "\n",
    "print(\"\\n=== GRAPH STATISTICS ===\")\n",
    "print(f\"Total Nodes: {stats['total_nodes']:,}\")\n",
    "print(f\"Total Relationships: {stats['total_relationships']:,}\")\n",
    "print(\"\\nNode Breakdown:\")\n",
    "print(f\"  - Digimon: {stats['digimon_count']:,}\")\n",
    "print(f\"  - Types: {stats['type_count']:,}\")\n",
    "print(f\"  - Attributes: {stats['attribute_count']:,}\")\n",
    "print(f\"  - Levels: {stats['level_count']:,}\")\n",
    "print(f\"  - Moves: {stats['move_count']:,}\")\n",
    "print(\"\\nRelationship Breakdown:\")\n",
    "print(f\"  - HAS_TYPE: {stats['has_type_count']:,}\")\n",
    "print(f\"  - HAS_ATTRIBUTE: {stats['has_attribute_count']:,}\")\n",
    "print(f\"  - HAS_LEVEL: {stats['has_level_count']:,}\")\n",
    "print(f\"  - CAN_USE: {stats['can_use_count']:,}\")\n",
    "print(f\"  - RELATED_TO: {stats['related_to_count']:,}\")"
   ],
   "outputs": [
    {
     "name": "stdout",
     "output_type": "stream",
     "text": [
      "Fetching graph statistics...\n",
      "\n",
      "=== GRAPH STATISTICS ===\n",
      "Total Nodes: 3,562\n",
      "Total Relationships: 337,147\n",
      "\n",
      "Node Breakdown:\n",
      "  - Digimon: 1,258\n",
      "  - Types: 142\n",
      "  - Attributes: 8\n",
      "  - Levels: 15\n",
      "  - Moves: 2,139\n",
      "\n",
      "Relationship Breakdown:\n",
      "  - HAS_TYPE: 1,249\n",
      "  - HAS_ATTRIBUTE: 1,249\n",
      "  - HAS_LEVEL: 1,249\n",
      "  - CAN_USE: 2,433\n",
      "  - RELATED_TO: 3,746\n"
     ]
    }
   ],
   "execution_count": 7
  },
  {
   "cell_type": "code",
   "metadata": {
    "ExecuteTime": {
     "end_time": "2025-08-10T19:56:32.086617Z",
     "start_time": "2025-08-10T19:56:31.889232Z"
    }
   },
   "source": [
    "# Load all Digimon data\n",
    "print(\"Loading Digimon data...\")\n",
    "digimon_df = conn.get_all_digimon()\n",
    "print(f\"\\nLoaded {len(digimon_df):,} Digimon records\")\n",
    "\n",
    "# Display sample\n",
    "print(\"\\nSample data:\")\n",
    "digimon_df.head(10)"
   ],
   "outputs": [
    {
     "name": "stdout",
     "output_type": "stream",
     "text": [
      "Loading Digimon data...\n",
      "\n",
      "Loaded 1,258 Digimon records\n",
      "\n",
      "Sample data:\n"
     ]
    },
    {
     "data": {
      "text/plain": [
       "              name_en          name_jp  \\\n",
       "0           ABBADOMON            アバドモン   \n",
       "1       ABBADOMONCORE          アバドモンコア   \n",
       "2         ACHILLESMON          アキレウスモン   \n",
       "3        AEGIOCHUSMON       アイギオテュースモン   \n",
       "4   AEGIOCHUSMON:BLUE   アイギオテュースモン：ブルー   \n",
       "5   AEGIOCHUSMON:DARK   アイギオテュースモン：ダーク   \n",
       "6  AEGIOCHUSMON:GREEN  アイギオテュースモン：グリーン   \n",
       "7  AEGIOCHUSMON_HOLLY  アイギオテュースモン：ホーリー   \n",
       "8            AEGIOMON           アイギオモン   \n",
       "9         AGEISDRAMON         イージスドラモン   \n",
       "\n",
       "                                          profile_en  \\\n",
       "0  A mysterious Digimon has evolved into a huge a...   \n",
       "1  It is the body that exists inside Abadmon, and...   \n",
       "2  The ultimate Digimon has been well-versed in a...   \n",
       "3  A divine human-shaped Digimon based on the hum...   \n",
       "4  A divine human-shaped Digimon based on the hum...   \n",
       "5  A divine human-shaped Digimon based on the hum...   \n",
       "6  A divine human-shaped Digimon based on the hum...   \n",
       "7  A divine human-shaped Digimon based on the hum...   \n",
       "8  A divine human-shaped Digimon with a human upp...   \n",
       "9  A cyborg-type Digimon created by combining Pre...   \n",
       "\n",
       "                                          profile_jp  \\\n",
       "0  ネットワークに溢れる負のデータを、極限以上に吸収して巨大に進化した謎のデジモン。その存在目的...   \n",
       "1  アバドモンの内部に存在する本体であり、アバドモンの真の姿。無を求め、無を好み、無以外を拒絶す...   \n",
       "2  古今東西のあらゆる競技に精通し、極めることで進化した究極体デジモン。心技体すべてが備わってお...   \n",
       "3  人間の身体をベースに、様々な種族の能力を合成させた神人型のデジモン。種族の合成は全能という究...   \n",
       "4  人間の身体をベースに、様々な種族の能力を合成させた神人型のデジモン。種族の合成は全能という究...   \n",
       "5  人間の身体をベースに、様々な種族の能力を合成させた神人型のデジモン。種族の合成は全能という究...   \n",
       "6  人間の身体をベースに、様々な種族の能力を合成させた神人型のデジモン。種族の合成は全能という究...   \n",
       "7  人間の身体をベースに、様々な種族の能力を合成させた神人型のデジモン。種族の合成は全能という究...   \n",
       "8  人間の上半身に山羊の下半身が融合した姿を持つ神人型デジモン。普段はセイレーンモンと同じ奏楽団...   \n",
       "9  プレシオモンにシードラモン系のデータが融合して生まれたサイボーグ型デジモン。ゴールドデジゾイ...   \n",
       "\n",
       "                                           image_url     level  \\\n",
       "0  https://digimon.net/cimages/digimon/abbadomon.jpg      Mega   \n",
       "1  https://digimon.net/cimages/digimon/abbadomonc...      Mega   \n",
       "2  https://digimon.net/cimages/digimon/achillesmo...      Mega   \n",
       "3  https://digimon.net/cimages/digimon/aegiochusm...  Ultimate   \n",
       "4  https://digimon.net/cimages/digimon/aegiochusm...  Ultimate   \n",
       "5  https://digimon.net/cimages/digimon/aegiochusm...  Ultimate   \n",
       "6  https://digimon.net/cimages/digimon/aegiochusm...  Ultimate   \n",
       "7  https://digimon.net/cimages/digimon/aegiochusm...  Ultimate   \n",
       "8   https://digimon.net/cimages/digimon/aegiomon.jpg  Champion   \n",
       "9  https://digimon.net/cimages/digimon/ageisdramo...      Mega   \n",
       "\n",
       "                    type attribute  \n",
       "0  Tribe unknown Species   Unknown  \n",
       "1  Tribe unknown Species   Unknown  \n",
       "2          Beastman Type     Virus  \n",
       "3               God Type   Vaccine  \n",
       "4               God Type   Vaccine  \n",
       "5               God Type   Vaccine  \n",
       "6               God Type   Vaccine  \n",
       "7               God Type   Vaccine  \n",
       "8               God Type   Vaccine  \n",
       "9            cyborg Type   Vaccine  "
      ],
      "text/html": [
       "<div>\n",
       "<style scoped>\n",
       "    .dataframe tbody tr th:only-of-type {\n",
       "        vertical-align: middle;\n",
       "    }\n",
       "\n",
       "    .dataframe tbody tr th {\n",
       "        vertical-align: top;\n",
       "    }\n",
       "\n",
       "    .dataframe thead th {\n",
       "        text-align: right;\n",
       "    }\n",
       "</style>\n",
       "<table border=\"1\" class=\"dataframe\">\n",
       "  <thead>\n",
       "    <tr style=\"text-align: right;\">\n",
       "      <th></th>\n",
       "      <th>name_en</th>\n",
       "      <th>name_jp</th>\n",
       "      <th>profile_en</th>\n",
       "      <th>profile_jp</th>\n",
       "      <th>image_url</th>\n",
       "      <th>level</th>\n",
       "      <th>type</th>\n",
       "      <th>attribute</th>\n",
       "    </tr>\n",
       "  </thead>\n",
       "  <tbody>\n",
       "    <tr>\n",
       "      <th>0</th>\n",
       "      <td>ABBADOMON</td>\n",
       "      <td>アバドモン</td>\n",
       "      <td>A mysterious Digimon has evolved into a huge a...</td>\n",
       "      <td>ネットワークに溢れる負のデータを、極限以上に吸収して巨大に進化した謎のデジモン。その存在目的...</td>\n",
       "      <td>https://digimon.net/cimages/digimon/abbadomon.jpg</td>\n",
       "      <td>Mega</td>\n",
       "      <td>Tribe unknown Species</td>\n",
       "      <td>Unknown</td>\n",
       "    </tr>\n",
       "    <tr>\n",
       "      <th>1</th>\n",
       "      <td>ABBADOMONCORE</td>\n",
       "      <td>アバドモンコア</td>\n",
       "      <td>It is the body that exists inside Abadmon, and...</td>\n",
       "      <td>アバドモンの内部に存在する本体であり、アバドモンの真の姿。無を求め、無を好み、無以外を拒絶す...</td>\n",
       "      <td>https://digimon.net/cimages/digimon/abbadomonc...</td>\n",
       "      <td>Mega</td>\n",
       "      <td>Tribe unknown Species</td>\n",
       "      <td>Unknown</td>\n",
       "    </tr>\n",
       "    <tr>\n",
       "      <th>2</th>\n",
       "      <td>ACHILLESMON</td>\n",
       "      <td>アキレウスモン</td>\n",
       "      <td>The ultimate Digimon has been well-versed in a...</td>\n",
       "      <td>古今東西のあらゆる競技に精通し、極めることで進化した究極体デジモン。心技体すべてが備わってお...</td>\n",
       "      <td>https://digimon.net/cimages/digimon/achillesmo...</td>\n",
       "      <td>Mega</td>\n",
       "      <td>Beastman Type</td>\n",
       "      <td>Virus</td>\n",
       "    </tr>\n",
       "    <tr>\n",
       "      <th>3</th>\n",
       "      <td>AEGIOCHUSMON</td>\n",
       "      <td>アイギオテュースモン</td>\n",
       "      <td>A divine human-shaped Digimon based on the hum...</td>\n",
       "      <td>人間の身体をベースに、様々な種族の能力を合成させた神人型のデジモン。種族の合成は全能という究...</td>\n",
       "      <td>https://digimon.net/cimages/digimon/aegiochusm...</td>\n",
       "      <td>Ultimate</td>\n",
       "      <td>God Type</td>\n",
       "      <td>Vaccine</td>\n",
       "    </tr>\n",
       "    <tr>\n",
       "      <th>4</th>\n",
       "      <td>AEGIOCHUSMON:BLUE</td>\n",
       "      <td>アイギオテュースモン：ブルー</td>\n",
       "      <td>A divine human-shaped Digimon based on the hum...</td>\n",
       "      <td>人間の身体をベースに、様々な種族の能力を合成させた神人型のデジモン。種族の合成は全能という究...</td>\n",
       "      <td>https://digimon.net/cimages/digimon/aegiochusm...</td>\n",
       "      <td>Ultimate</td>\n",
       "      <td>God Type</td>\n",
       "      <td>Vaccine</td>\n",
       "    </tr>\n",
       "    <tr>\n",
       "      <th>5</th>\n",
       "      <td>AEGIOCHUSMON:DARK</td>\n",
       "      <td>アイギオテュースモン：ダーク</td>\n",
       "      <td>A divine human-shaped Digimon based on the hum...</td>\n",
       "      <td>人間の身体をベースに、様々な種族の能力を合成させた神人型のデジモン。種族の合成は全能という究...</td>\n",
       "      <td>https://digimon.net/cimages/digimon/aegiochusm...</td>\n",
       "      <td>Ultimate</td>\n",
       "      <td>God Type</td>\n",
       "      <td>Vaccine</td>\n",
       "    </tr>\n",
       "    <tr>\n",
       "      <th>6</th>\n",
       "      <td>AEGIOCHUSMON:GREEN</td>\n",
       "      <td>アイギオテュースモン：グリーン</td>\n",
       "      <td>A divine human-shaped Digimon based on the hum...</td>\n",
       "      <td>人間の身体をベースに、様々な種族の能力を合成させた神人型のデジモン。種族の合成は全能という究...</td>\n",
       "      <td>https://digimon.net/cimages/digimon/aegiochusm...</td>\n",
       "      <td>Ultimate</td>\n",
       "      <td>God Type</td>\n",
       "      <td>Vaccine</td>\n",
       "    </tr>\n",
       "    <tr>\n",
       "      <th>7</th>\n",
       "      <td>AEGIOCHUSMON_HOLLY</td>\n",
       "      <td>アイギオテュースモン：ホーリー</td>\n",
       "      <td>A divine human-shaped Digimon based on the hum...</td>\n",
       "      <td>人間の身体をベースに、様々な種族の能力を合成させた神人型のデジモン。種族の合成は全能という究...</td>\n",
       "      <td>https://digimon.net/cimages/digimon/aegiochusm...</td>\n",
       "      <td>Ultimate</td>\n",
       "      <td>God Type</td>\n",
       "      <td>Vaccine</td>\n",
       "    </tr>\n",
       "    <tr>\n",
       "      <th>8</th>\n",
       "      <td>AEGIOMON</td>\n",
       "      <td>アイギオモン</td>\n",
       "      <td>A divine human-shaped Digimon with a human upp...</td>\n",
       "      <td>人間の上半身に山羊の下半身が融合した姿を持つ神人型デジモン。普段はセイレーンモンと同じ奏楽団...</td>\n",
       "      <td>https://digimon.net/cimages/digimon/aegiomon.jpg</td>\n",
       "      <td>Champion</td>\n",
       "      <td>God Type</td>\n",
       "      <td>Vaccine</td>\n",
       "    </tr>\n",
       "    <tr>\n",
       "      <th>9</th>\n",
       "      <td>AGEISDRAMON</td>\n",
       "      <td>イージスドラモン</td>\n",
       "      <td>A cyborg-type Digimon created by combining Pre...</td>\n",
       "      <td>プレシオモンにシードラモン系のデータが融合して生まれたサイボーグ型デジモン。ゴールドデジゾイ...</td>\n",
       "      <td>https://digimon.net/cimages/digimon/ageisdramo...</td>\n",
       "      <td>Mega</td>\n",
       "      <td>cyborg Type</td>\n",
       "      <td>Vaccine</td>\n",
       "    </tr>\n",
       "  </tbody>\n",
       "</table>\n",
       "</div>"
      ]
     },
     "execution_count": 8,
     "metadata": {},
     "output_type": "execute_result"
    }
   ],
   "execution_count": 8
  },
  {
   "cell_type": "code",
   "metadata": {
    "ExecuteTime": {
     "end_time": "2025-08-10T19:56:52.474707Z",
     "start_time": "2025-08-10T19:56:52.460228Z"
    }
   },
   "source": [
    "# Data quality assessment\n",
    "print(\"=== DATA QUALITY ASSESSMENT ===\")\n",
    "print(\"\\nMissing values per column:\")\n",
    "missing = digimon_df.isnull().sum()\n",
    "missing_pct = (missing / len(digimon_df) * 100).round(2)\n",
    "quality_df = pd.DataFrame({\n",
    "    'Missing Count': missing,\n",
    "    'Missing %': missing_pct\n",
    "})\n",
    "print(quality_df)\n",
    "\n",
    "# Check for duplicates\n",
    "duplicates = digimon_df.duplicated(subset=['name_en']).sum()\n",
    "print(f\"\\nDuplicate Digimon names: {duplicates}\")\n",
    "\n",
    "# Profile text lengths\n",
    "print(\"\\nProfile text statistics:\")\n",
    "profile_lengths = digimon_df['profile_en'].str.len()\n",
    "print(f\"  - Mean length: {profile_lengths.mean():.0f} characters\")\n",
    "print(f\"  - Median length: {profile_lengths.median():.0f} characters\")\n",
    "print(f\"  - Min length: {profile_lengths.min():.0f} characters\")\n",
    "print(f\"  - Max length: {profile_lengths.max():.0f} characters\")"
   ],
   "outputs": [
    {
     "name": "stdout",
     "output_type": "stream",
     "text": [
      "=== DATA QUALITY ASSESSMENT ===\n",
      "\n",
      "Missing values per column:\n",
      "            Missing Count  Missing %\n",
      "name_en                 9       0.72\n",
      "name_jp                 0       0.00\n",
      "profile_en              9       0.72\n",
      "profile_jp              9       0.72\n",
      "image_url               9       0.72\n",
      "level                   9       0.72\n",
      "type                    9       0.72\n",
      "attribute               9       0.72\n",
      "\n",
      "Duplicate Digimon names: 8\n",
      "\n",
      "Profile text statistics:\n",
      "  - Mean length: 725 characters\n",
      "  - Median length: 666 characters\n",
      "  - Min length: 147 characters\n",
      "  - Max length: 2179 characters\n"
     ]
    }
   ],
   "execution_count": 9
  },
  {
   "cell_type": "markdown",
   "metadata": {},
   "source": [
    "## 4. Statistical Analysis"
   ]
  },
  {
   "cell_type": "code",
   "metadata": {
    "ExecuteTime": {
     "end_time": "2025-08-10T20:00:47.592907Z",
     "start_time": "2025-08-10T20:00:47.483749Z"
    }
   },
   "source": [
    "# Level distribution\n",
    "level_dist = conn.get_level_distribution()\n",
    "print(\"=== LEVEL DISTRIBUTION ===\")\n",
    "print(level_dist)\n",
    "\n",
    "# Create ordered level list\n",
    "level_order = ['Baby', 'In-Training', 'Rookie', 'Champion', 'Ultimate', 'Mega', 'Ultra']\n",
    "level_dist['level'] = pd.Categorical(level_dist['level'], categories=level_order, ordered=True)\n",
    "level_dist = level_dist.sort_values('level')"
   ],
   "outputs": [
    {
     "name": "stdout",
     "output_type": "stream",
     "text": [
      "=== LEVEL DISTRIBUTION ===\n",
      "                         level  count\n",
      "0                         Mega    328\n",
      "1                     Ultimate    248\n",
      "2                     Champion    243\n",
      "3                       Rookie    146\n",
      "4                        Armor     67\n",
      "5                      Baby II     52\n",
      "6                       Baby I     44\n",
      "7                       Hybrid     32\n",
      "8        Maturity (Cross Wars)     26\n",
      "9   Growth period (Cross Wars)     19\n",
      "10       Complete (Cross Wars)     19\n",
      "11  Ultimate Body (Cross Wars)     17\n",
      "12   Childhood II (Cross Wars)      3\n",
      "13                     Unknown      3\n",
      "14    Childhood I (Cross Wars)      2\n"
     ]
    }
   ],
   "execution_count": 10
  },
  {
   "cell_type": "code",
   "metadata": {
    "ExecuteTime": {
     "end_time": "2025-08-10T20:01:38.206367Z",
     "start_time": "2025-08-10T20:01:38.156535Z"
    }
   },
   "source": [
    "# Type distribution\n",
    "type_dist = conn.get_type_distribution()\n",
    "print(\"\\n=== TYPE DISTRIBUTION (Top 20) ===\")\n",
    "print(type_dist.head(20))"
   ],
   "outputs": [
    {
     "name": "stdout",
     "output_type": "stream",
     "text": [
      "\n",
      "=== TYPE DISTRIBUTION (Top 20) ===\n",
      "                type  count\n",
      "0        cyborg Type     98\n",
      "1      mutation Type     56\n",
      "2        Puppet Type     48\n",
      "3        insect Type     41\n",
      "4       Machine Type     41\n",
      "5         Demon Type     39\n",
      "6         beast Type     39\n",
      "7      Beastman Type     38\n",
      "8           God Type     38\n",
      "9   Holy Knight Type     35\n",
      "10        Slime Type     35\n",
      "11   Holy Beast Type     31\n",
      "12       Lesser Type     30\n",
      "13       Dragon Type     27\n",
      "14     dinosaur Type     26\n",
      "15        plant Type     25\n",
      "16  Demon Beast Type     25\n",
      "17        fairy Type     24\n",
      "18    mammalian Type     22\n",
      "19       Undead Type     22\n"
     ]
    }
   ],
   "execution_count": 11
  },
  {
   "cell_type": "code",
   "metadata": {
    "ExecuteTime": {
     "end_time": "2025-08-10T20:01:44.630607Z",
     "start_time": "2025-08-10T20:01:44.591642Z"
    }
   },
   "source": [
    "# Attribute distribution\n",
    "attr_dist = conn.get_attribute_distribution()\n",
    "print(\"\\n=== ATTRIBUTE DISTRIBUTION ===\")\n",
    "print(attr_dist)"
   ],
   "outputs": [
    {
     "name": "stdout",
     "output_type": "stream",
     "text": [
      "\n",
      "=== ATTRIBUTE DISTRIBUTION ===\n",
      "  attribute  count\n",
      "0     Virus    397\n",
      "1      Data    308\n",
      "2   Vaccine    295\n",
      "3              101\n",
      "4      Free     86\n",
      "5  Variable     32\n",
      "6   Unknown     28\n",
      "7    NODATA      2\n"
     ]
    }
   ],
   "execution_count": 12
  },
  {
   "cell_type": "code",
   "metadata": {
    "ExecuteTime": {
     "end_time": "2025-08-10T20:01:50.112920Z",
     "start_time": "2025-08-10T20:01:50.091661Z"
    }
   },
   "source": [
    "# Cross-tabulation: Level vs Attribute\n",
    "level_attr_cross = pd.crosstab(digimon_df['level'], digimon_df['attribute'])\n",
    "print(\"\\n=== LEVEL vs ATTRIBUTE CROSS-TABULATION ===\")\n",
    "print(level_attr_cross)"
   ],
   "outputs": [
    {
     "name": "stdout",
     "output_type": "stream",
     "text": [
      "\n",
      "=== LEVEL vs ATTRIBUTE CROSS-TABULATION ===\n",
      "attribute                       Data  Free  NODATA  Unknown  Vaccine  \\\n",
      "level                                                                  \n",
      "Armor                        0     2    61       0        0        2   \n",
      "Baby I                      44     0     0       0        0        0   \n",
      "Baby II                     52     0     0       0        0        0   \n",
      "Champion                     0    78     6       0        4       63   \n",
      "Childhood I (Cross Wars)     2     0     0       0        0        0   \n",
      "Childhood II (Cross Wars)    3     0     0       0        0        0   \n",
      "Complete (Cross Wars)        0     5     1       0        0        4   \n",
      "Growth period (Cross Wars)   0     9     0       0        0        5   \n",
      "Hybrid                       0     0     0       0        0        0   \n",
      "Maturity (Cross Wars)        0    11     0       0        0        4   \n",
      "Mega                         0    82     7       2       14       99   \n",
      "Rookie                       0    46     6       0        3       41   \n",
      "Ultimate                     0    69     5       0        4       75   \n",
      "Ultimate Body (Cross Wars)   0     6     0       0        0        2   \n",
      "Unknown                      0     0     0       0        3        0   \n",
      "\n",
      "attribute                   Variable  Virus  \n",
      "level                                        \n",
      "Armor                              0      2  \n",
      "Baby I                             0      0  \n",
      "Baby II                            0      0  \n",
      "Champion                           0     92  \n",
      "Childhood I (Cross Wars)           0      0  \n",
      "Childhood II (Cross Wars)          0      0  \n",
      "Complete (Cross Wars)              0      9  \n",
      "Growth period (Cross Wars)         0      5  \n",
      "Hybrid                            32      0  \n",
      "Maturity (Cross Wars)              0     11  \n",
      "Mega                               0    124  \n",
      "Rookie                             0     50  \n",
      "Ultimate                           0     95  \n",
      "Ultimate Body (Cross Wars)         0      9  \n",
      "Unknown                            0      0  \n"
     ]
    }
   ],
   "execution_count": 13
  },
  {
   "cell_type": "markdown",
   "metadata": {},
   "source": [
    "## 5. Visualizations"
   ]
  },
  {
   "cell_type": "code",
   "metadata": {
    "ExecuteTime": {
     "end_time": "2025-08-10T20:02:33.312094Z",
     "start_time": "2025-08-10T20:02:31.911539Z"
    }
   },
   "source": "# Level distribution plot\nfig = plot_distribution(\n    digimon_df['level'],\n    title=\"Digimon Distribution by Level\",\n    xlabel=\"Level\",\n    color_map=LEVEL_COLORS\n)\nsave_figure(fig, \"level_distribution\", notebook_name=notebook_name)\nplt.show()",
   "outputs": [],
   "execution_count": null
  },
  {
   "cell_type": "code",
   "metadata": {
    "ExecuteTime": {
     "end_time": "2025-08-10T20:02:43.189338Z",
     "start_time": "2025-08-10T20:02:42.143833Z"
    }
   },
   "source": "# Type distribution plot (top 15)\nfig = plot_distribution(\n    digimon_df['type'],\n    title=\"Digimon Distribution by Type (Top 15)\",\n    xlabel=\"Type\",\n    color_map=TYPE_COLORS,\n    top_n=15\n)\nsave_figure(fig, \"type_distribution\", notebook_name=notebook_name)\nplt.show()",
   "outputs": [],
   "execution_count": null
  },
  {
   "cell_type": "code",
   "metadata": {
    "ExecuteTime": {
     "end_time": "2025-08-10T20:02:55.166353Z",
     "start_time": "2025-08-10T20:02:54.252035Z"
    }
   },
   "source": "# Attribute distribution plot\nfig = plot_distribution(\n    digimon_df['attribute'],\n    title=\"Digimon Distribution by Attribute\",\n    xlabel=\"Attribute\",\n    color_map=ATTRIBUTE_COLORS\n)\nsave_figure(fig, \"attribute_distribution\", notebook_name=notebook_name)\nplt.show()",
   "outputs": [],
   "execution_count": null
  },
  {
   "cell_type": "code",
   "metadata": {
    "ExecuteTime": {
     "end_time": "2025-08-10T20:03:02.925535Z",
     "start_time": "2025-08-10T20:03:01.702Z"
    }
   },
   "source": "# Level-Attribute heatmap\nfig = plot_heatmap(\n    level_attr_cross,\n    title=\"Level vs Attribute Distribution\",\n    figsize=(10, 8)\n)\nsave_figure(fig, \"level_attribute_heatmap\", notebook_name=notebook_name)\nplt.show()",
   "outputs": [],
   "execution_count": null
  },
  {
   "cell_type": "code",
   "metadata": {
    "ExecuteTime": {
     "end_time": "2025-08-10T20:04:21.283042Z",
     "start_time": "2025-08-10T20:04:20.384301Z"
    }
   },
   "source": "# Type diversity by level\ntype_by_level = digimon_df.groupby('level')['type'].nunique().sort_values(ascending=False)\n\nfig, ax = plt.subplots(figsize=(12, 8))  # Increased figure size\ncolors = [LEVEL_COLORS.get(level, '#808080') for level in type_by_level.index]\nbars = ax.bar(type_by_level.index, type_by_level.values, color=colors)\n\nax.set_xlabel('Level', fontsize=12)\nax.set_ylabel('Number of Unique Types', fontsize=12)\nax.set_title('Type Diversity by Level', fontsize=16, fontweight='bold')\n\n# Add value labels\nfor bar in bars:\n    height = bar.get_height()\n    ax.text(bar.get_x() + bar.get_width()/2., height,\n            f'{int(height)}', ha='center', va='bottom')\n\n# Rotate x-axis labels to prevent overlap\nplt.xticks(rotation=45, ha='right')\n\n# Adjust layout to prevent label cutoff\nplt.tight_layout()\nsave_figure(fig, \"type_diversity_by_level\", notebook_name=notebook_name)\nplt.show()",
   "outputs": [],
   "execution_count": null
  },
  {
   "cell_type": "code",
   "metadata": {
    "ExecuteTime": {
     "end_time": "2025-08-10T20:04:47.048771Z",
     "start_time": "2025-08-10T20:04:46.172840Z"
    }
   },
   "source": "# Relationship density visualization\nfig, ax = plt.subplots(figsize=(12, 6))\n\nrel_types = ['HAS_TYPE', 'HAS_ATTRIBUTE', 'HAS_LEVEL', 'CAN_USE', 'RELATED_TO']\nrel_counts = [stats[f'{rt.lower()}_count'] for rt in rel_types]\n\nbars = ax.bar(rel_types, rel_counts, color=sns.color_palette('viridis', len(rel_types)))\nax.set_xlabel('Relationship Type')\nax.set_ylabel('Count')\nax.set_title('Relationship Type Distribution', fontsize=16, fontweight='bold')\n\n# Add value labels\nfor bar in bars:\n    height = bar.get_height()\n    ax.text(bar.get_x() + bar.get_width()/2., height,\n            f'{int(height):,}', ha='center', va='bottom')\n\nplt.tight_layout()\nsave_figure(fig, \"relationship_distribution\", notebook_name=notebook_name)\nplt.show()",
   "outputs": [],
   "execution_count": null
  },
  {
   "cell_type": "markdown",
   "metadata": {},
   "source": [
    "## 6. Export Results"
   ]
  },
  {
   "cell_type": "code",
   "metadata": {
    "ExecuteTime": {
     "end_time": "2025-08-10T20:04:53.248709Z",
     "start_time": "2025-08-10T20:04:53.227616Z"
    }
   },
   "source": "# Create results directory with notebook-specific subfolder\nnotebook_name = \"01_data_exploration\"\nresults_dir = Path(f'../results/{notebook_name}/data')\nfigures_dir = Path(f'../results/{notebook_name}/figures')\n\n# Create directories\nresults_dir.mkdir(parents=True, exist_ok=True)\nfigures_dir.mkdir(parents=True, exist_ok=True)\n\n# Export statistics\nwith open(results_dir / 'graph_statistics.json', 'w') as f:\n    json.dump(stats, f, indent=2)\n\n# Export distribution data\nlevel_dist.to_csv(results_dir / 'level_distribution.csv', index=False)\ntype_dist.to_csv(results_dir / 'type_distribution.csv', index=False)\nattr_dist.to_csv(results_dir / 'attribute_distribution.csv', index=False)\n\n# Export quality report\nquality_df.to_csv(results_dir / 'data_quality_report.csv')\n\n# Export cross-tabulation\nlevel_attr_cross.to_csv(results_dir / 'level_attribute_crosstab.csv')\n\nprint(f\"Results exported to: {results_dir}\")\nprint(f\"Figures saved to: {figures_dir}\")",
   "outputs": [],
   "execution_count": null
  },
  {
   "cell_type": "markdown",
   "metadata": {},
   "source": [
    "## Summary and Key Findings\n",
    "\n",
    "Based on the data exploration, we have discovered:\n",
    "\n",
    "1. **Dataset Size**: The knowledge graph contains approximately 1,249 Digimon with comprehensive relationship data\n",
    "\n",
    "2. **Data Quality**: \n",
    "   - Very low missing data rates\n",
    "   - All Digimon have associated levels, types, and attributes\n",
    "   - Profile descriptions are comprehensive\n",
    "\n",
    "3. **Level Distribution**: \n",
    "   - Most Digimon are concentrated in middle evolution levels (Rookie, Champion, Ultimate)\n",
    "   - Fewer Baby and Ultra level Digimon\n",
    "\n",
    "4. **Type Diversity**: \n",
    "   - Wide variety of types with some dominant categories\n",
    "   - Higher evolution levels tend to have more type diversity\n",
    "\n",
    "5. **Attribute Balance**: \n",
    "   - Relatively balanced distribution across Vaccine, Virus, and Data attributes\n",
    "   - Some correlation between level and attribute preferences\n",
    "\n",
    "These insights provide a solid foundation for deeper analysis in subsequent notebooks."
   ]
  },
  {
   "cell_type": "code",
   "metadata": {
    "ExecuteTime": {
     "end_time": "2025-08-10T20:05:11.210473Z",
     "start_time": "2025-08-10T20:05:11.207083Z"
    }
   },
   "source": [
    "# Close database connection\n",
    "conn.close()\n",
    "print(\"Analysis complete! Database connection closed.\")"
   ],
   "outputs": [
    {
     "name": "stdout",
     "output_type": "stream",
     "text": [
      "Analysis complete! Database connection closed.\n"
     ]
    }
   ],
   "execution_count": 21
  }
 ],
 "metadata": {
  "kernelspec": {
   "display_name": "Python 3",
   "language": "python",
   "name": "python3"
  },
  "language_info": {
   "codemirror_mode": {
    "name": "ipython",
    "version": 3
   },
   "file_extension": ".py",
   "mimetype": "text/x-python",
   "name": "python",
   "nbconvert_exporter": "python",
   "pygments_lexer": "ipython3",
   "version": "3.12.0"
  }
 },
 "nbformat": 4,
 "nbformat_minor": 4
}