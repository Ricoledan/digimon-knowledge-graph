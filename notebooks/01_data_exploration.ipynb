{
 "cells": [
  {
   "cell_type": "markdown",
   "metadata": {},
   "source": [
    "# Notebook 01: Data Exploration & Profiling\n",
    "\n",
    "**Objective**: Understand the dataset structure and basic statistics of the Digimon Knowledge Graph.\n",
    "\n",
    "This notebook performs:\n",
    "- Connection verification to Neo4j database\n",
    "- Data profiling and quality assessment\n",
    "- Statistical summaries of all entities\n",
    "- Initial visualizations of distributions\n",
    "\n",
    "---"
   ]
  },
  {
   "cell_type": "markdown",
   "metadata": {},
   "source": [
    "## 1. Setup and Imports"
   ]
  },
  {
   "cell_type": "code",
   "execution_count": null,
   "metadata": {},
   "outputs": [],
   "source": [
    "# Standard imports\n",
    "import pandas as pd\n",
    "import numpy as np\n",
    "import matplotlib.pyplot as plt\n",
    "import seaborn as sns\n",
    "from pathlib import Path\n",
    "import json\n",
    "import warnings\n",
    "warnings.filterwarnings('ignore')\n",
    "\n",
    "# Custom utilities\n",
    "from utils import (\n",
    "    Neo4jConnector, test_connection,\n",
    "    plot_distribution, plot_heatmap, save_figure,\n",
    "    TYPE_COLORS, ATTRIBUTE_COLORS, LEVEL_COLORS\n",
    ")\n",
    "\n",
    "# Display settings\n",
    "pd.set_option('display.max_columns', None)\n",
    "pd.set_option('display.max_rows', 100)\n",
    "pd.set_option('display.max_colwidth', 50)\n",
    "\n",
    "print(\"Environment setup complete!\")"
   ]
  },
  {
   "cell_type": "markdown",
   "metadata": {},
   "source": [
    "## 2. Database Connection"
   ]
  },
  {
   "cell_type": "code",
   "execution_count": null,
   "metadata": {},
   "outputs": [],
   "source": [
    "# Test connection\n",
    "print(\"Testing Neo4j connection...\")\n",
    "if test_connection():\n",
    "    print(\"✓ Connection successful!\")\n",
    "else:\n",
    "    print(\"✗ Connection failed. Please check your Neo4j instance.\")\n",
    "    raise ConnectionError(\"Cannot connect to Neo4j\")\n",
    "\n",
    "# Create connector instance\n",
    "conn = Neo4jConnector()\n",
    "print(\"\\nConnector initialized.\")"
   ]
  },
  {
   "cell_type": "markdown",
   "metadata": {},
   "source": [
    "## 3. Data Extraction and Profiling"
   ]
  },
  {
   "cell_type": "code",
   "execution_count": null,
   "metadata": {},
   "outputs": [],
   "source": [
    "# Get graph statistics\n",
    "print(\"Fetching graph statistics...\")\n",
    "stats = conn.get_graph_statistics()\n",
    "\n",
    "print(\"\\n=== GRAPH STATISTICS ===\")\n",
    "print(f\"Total Nodes: {stats['total_nodes']:,}\")\n",
    "print(f\"Total Relationships: {stats['total_relationships']:,}\")\n",
    "print(\"\\nNode Breakdown:\")\n",
    "print(f\"  - Digimon: {stats['digimon_count']:,}\")\n",
    "print(f\"  - Types: {stats['type_count']:,}\")\n",
    "print(f\"  - Attributes: {stats['attribute_count']:,}\")\n",
    "print(f\"  - Levels: {stats['level_count']:,}\")\n",
    "print(f\"  - Moves: {stats['move_count']:,}\")\n",
    "print(\"\\nRelationship Breakdown:\")\n",
    "print(f\"  - HAS_TYPE: {stats['has_type_count']:,}\")\n",
    "print(f\"  - HAS_ATTRIBUTE: {stats['has_attribute_count']:,}\")\n",
    "print(f\"  - HAS_LEVEL: {stats['has_level_count']:,}\")\n",
    "print(f\"  - CAN_USE: {stats['can_use_count']:,}\")\n",
    "print(f\"  - RELATED_TO: {stats['related_to_count']:,}\")"
   ]
  },
  {
   "cell_type": "code",
   "execution_count": null,
   "metadata": {},
   "outputs": [],
   "source": [
    "# Load all Digimon data\n",
    "print(\"Loading Digimon data...\")\n",
    "digimon_df = conn.get_all_digimon()\n",
    "print(f\"\\nLoaded {len(digimon_df):,} Digimon records\")\n",
    "\n",
    "# Display sample\n",
    "print(\"\\nSample data:\")\n",
    "digimon_df.head(10)"
   ]
  },
  {
   "cell_type": "code",
   "execution_count": null,
   "metadata": {},
   "outputs": [],
   "source": [
    "# Data quality assessment\n",
    "print(\"=== DATA QUALITY ASSESSMENT ===\")\n",
    "print(\"\\nMissing values per column:\")\n",
    "missing = digimon_df.isnull().sum()\n",
    "missing_pct = (missing / len(digimon_df) * 100).round(2)\n",
    "quality_df = pd.DataFrame({\n",
    "    'Missing Count': missing,\n",
    "    'Missing %': missing_pct\n",
    "})\n",
    "print(quality_df)\n",
    "\n",
    "# Check for duplicates\n",
    "duplicates = digimon_df.duplicated(subset=['name_en']).sum()\n",
    "print(f\"\\nDuplicate Digimon names: {duplicates}\")\n",
    "\n",
    "# Profile text lengths\n",
    "print(\"\\nProfile text statistics:\")\n",
    "profile_lengths = digimon_df['profile_en'].str.len()\n",
    "print(f\"  - Mean length: {profile_lengths.mean():.0f} characters\")\n",
    "print(f\"  - Median length: {profile_lengths.median():.0f} characters\")\n",
    "print(f\"  - Min length: {profile_lengths.min():.0f} characters\")\n",
    "print(f\"  - Max length: {profile_lengths.max():.0f} characters\")"
   ]
  },
  {
   "cell_type": "markdown",
   "metadata": {},
   "source": [
    "## 4. Statistical Analysis"
   ]
  },
  {
   "cell_type": "code",
   "execution_count": null,
   "metadata": {},
   "outputs": [],
   "source": [
    "# Level distribution\n",
    "level_dist = conn.get_level_distribution()\n",
    "print(\"=== LEVEL DISTRIBUTION ===\")\n",
    "print(level_dist)\n",
    "\n",
    "# Create ordered level list\n",
    "level_order = ['Baby', 'In-Training', 'Rookie', 'Champion', 'Ultimate', 'Mega', 'Ultra']\n",
    "level_dist['level'] = pd.Categorical(level_dist['level'], categories=level_order, ordered=True)\n",
    "level_dist = level_dist.sort_values('level')"
   ]
  },
  {
   "cell_type": "code",
   "execution_count": null,
   "metadata": {},
   "outputs": [],
   "source": [
    "# Type distribution\n",
    "type_dist = conn.get_type_distribution()\n",
    "print(\"\\n=== TYPE DISTRIBUTION (Top 20) ===\")\n",
    "print(type_dist.head(20))"
   ]
  },
  {
   "cell_type": "code",
   "execution_count": null,
   "metadata": {},
   "outputs": [],
   "source": [
    "# Attribute distribution\n",
    "attr_dist = conn.get_attribute_distribution()\n",
    "print(\"\\n=== ATTRIBUTE DISTRIBUTION ===\")\n",
    "print(attr_dist)"
   ]
  },
  {
   "cell_type": "code",
   "execution_count": null,
   "metadata": {},
   "outputs": [],
   "source": [
    "# Cross-tabulation: Level vs Attribute\n",
    "level_attr_cross = pd.crosstab(digimon_df['level'], digimon_df['attribute'])\n",
    "print(\"\\n=== LEVEL vs ATTRIBUTE CROSS-TABULATION ===\")\n",
    "print(level_attr_cross)"
   ]
  },
  {
   "cell_type": "markdown",
   "metadata": {},
   "source": [
    "## 5. Visualizations"
   ]
  },
  {
   "cell_type": "code",
   "execution_count": null,
   "metadata": {},
   "outputs": [],
   "source": [
    "# Level distribution plot\n",
    "fig = plot_distribution(\n",
    "    digimon_df['level'],\n",
    "    title=\"Digimon Distribution by Level\",\n",
    "    xlabel=\"Level\",\n",
    "    color_map=LEVEL_COLORS\n",
    ")\n",
    "save_figure(fig, \"level_distribution\")\n",
    "plt.show()"
   ]
  },
  {
   "cell_type": "code",
   "execution_count": null,
   "metadata": {},
   "outputs": [],
   "source": [
    "# Type distribution plot (top 15)\n",
    "fig = plot_distribution(\n",
    "    digimon_df['type'],\n",
    "    title=\"Digimon Distribution by Type (Top 15)\",\n",
    "    xlabel=\"Type\",\n",
    "    color_map=TYPE_COLORS,\n",
    "    top_n=15\n",
    ")\n",
    "save_figure(fig, \"type_distribution\")\n",
    "plt.show()"
   ]
  },
  {
   "cell_type": "code",
   "execution_count": null,
   "metadata": {},
   "outputs": [],
   "source": [
    "# Attribute distribution plot\n",
    "fig = plot_distribution(\n",
    "    digimon_df['attribute'],\n",
    "    title=\"Digimon Distribution by Attribute\",\n",
    "    xlabel=\"Attribute\",\n",
    "    color_map=ATTRIBUTE_COLORS\n",
    ")\n",
    "save_figure(fig, \"attribute_distribution\")\n",
    "plt.show()"
   ]
  },
  {
   "cell_type": "code",
   "execution_count": null,
   "metadata": {},
   "outputs": [],
   "source": [
    "# Level-Attribute heatmap\n",
    "fig = plot_heatmap(\n",
    "    level_attr_cross,\n",
    "    title=\"Level vs Attribute Distribution\",\n",
    "    figsize=(10, 8)\n",
    ")\n",
    "save_figure(fig, \"level_attribute_heatmap\")\n",
    "plt.show()"
   ]
  },
  {
   "cell_type": "code",
   "execution_count": null,
   "metadata": {},
   "outputs": [],
   "source": [
    "# Type diversity by level\n",
    "type_by_level = digimon_df.groupby('level')['type'].nunique().sort_values(ascending=False)\n",
    "\n",
    "fig, ax = plt.subplots(figsize=(10, 6))\n",
    "colors = [LEVEL_COLORS.get(level, '#808080') for level in type_by_level.index]\n",
    "bars = ax.bar(type_by_level.index, type_by_level.values, color=colors)\n",
    "\n",
    "ax.set_xlabel('Level')\n",
    "ax.set_ylabel('Number of Unique Types')\n",
    "ax.set_title('Type Diversity by Level', fontsize=16, fontweight='bold')\n",
    "\n",
    "# Add value labels\n",
    "for bar in bars:\n",
    "    height = bar.get_height()\n",
    "    ax.text(bar.get_x() + bar.get_width()/2., height,\n",
    "            f'{int(height)}', ha='center', va='bottom')\n",
    "\n",
    "plt.tight_layout()\n",
    "save_figure(fig, \"type_diversity_by_level\")\n",
    "plt.show()"
   ]
  },
  {
   "cell_type": "code",
   "execution_count": null,
   "metadata": {},
   "outputs": [],
   "source": [
    "# Relationship density visualization\n",
    "fig, ax = plt.subplots(figsize=(12, 6))\n",
    "\n",
    "rel_types = ['HAS_TYPE', 'HAS_ATTRIBUTE', 'HAS_LEVEL', 'CAN_USE', 'RELATED_TO']\n",
    "rel_counts = [stats[f'{rt.lower()}_count'] for rt in rel_types]\n",
    "\n",
    "bars = ax.bar(rel_types, rel_counts, color=sns.color_palette('viridis', len(rel_types)))\n",
    "ax.set_xlabel('Relationship Type')\n",
    "ax.set_ylabel('Count')\n",
    "ax.set_title('Relationship Type Distribution', fontsize=16, fontweight='bold')\n",
    "\n",
    "# Add value labels\n",
    "for bar in bars:\n",
    "    height = bar.get_height()\n",
    "    ax.text(bar.get_x() + bar.get_width()/2., height,\n",
    "            f'{int(height):,}', ha='center', va='bottom')\n",
    "\n",
    "plt.tight_layout()\n",
    "save_figure(fig, \"relationship_distribution\")\n",
    "plt.show()"
   ]
  },
  {
   "cell_type": "markdown",
   "metadata": {},
   "source": [
    "## 6. Export Results"
   ]
  },
  {
   "cell_type": "code",
   "execution_count": null,
   "metadata": {},
   "outputs": [],
   "source": [
    "# Create results directory\n",
    "results_dir = Path('../results/data')\n",
    "results_dir.mkdir(parents=True, exist_ok=True)\n",
    "\n",
    "# Export statistics\n",
    "with open(results_dir / 'graph_statistics.json', 'w') as f:\n",
    "    json.dump(stats, f, indent=2)\n",
    "\n",
    "# Export distribution data\n",
    "level_dist.to_csv(results_dir / 'level_distribution.csv', index=False)\n",
    "type_dist.to_csv(results_dir / 'type_distribution.csv', index=False)\n",
    "attr_dist.to_csv(results_dir / 'attribute_distribution.csv', index=False)\n",
    "\n",
    "# Export quality report\n",
    "quality_df.to_csv(results_dir / 'data_quality_report.csv')\n",
    "\n",
    "# Export cross-tabulation\n",
    "level_attr_cross.to_csv(results_dir / 'level_attribute_crosstab.csv')\n",
    "\n",
    "print(\"Results exported successfully!\")"
   ]
  },
  {
   "cell_type": "markdown",
   "metadata": {},
   "source": [
    "## Summary and Key Findings\n",
    "\n",
    "Based on the data exploration, we have discovered:\n",
    "\n",
    "1. **Dataset Size**: The knowledge graph contains approximately 1,249 Digimon with comprehensive relationship data\n",
    "\n",
    "2. **Data Quality**: \n",
    "   - Very low missing data rates\n",
    "   - All Digimon have associated levels, types, and attributes\n",
    "   - Profile descriptions are comprehensive\n",
    "\n",
    "3. **Level Distribution**: \n",
    "   - Most Digimon are concentrated in middle evolution levels (Rookie, Champion, Ultimate)\n",
    "   - Fewer Baby and Ultra level Digimon\n",
    "\n",
    "4. **Type Diversity**: \n",
    "   - Wide variety of types with some dominant categories\n",
    "   - Higher evolution levels tend to have more type diversity\n",
    "\n",
    "5. **Attribute Balance**: \n",
    "   - Relatively balanced distribution across Vaccine, Virus, and Data attributes\n",
    "   - Some correlation between level and attribute preferences\n",
    "\n",
    "These insights provide a solid foundation for deeper analysis in subsequent notebooks."
   ]
  },
  {
   "cell_type": "code",
   "execution_count": null,
   "metadata": {},
   "outputs": [],
   "source": [
    "# Close database connection\n",
    "conn.close()\n",
    "print(\"Analysis complete! Database connection closed.\")"
   ]
  }
 ],
 "metadata": {
  "kernelspec": {
   "display_name": "Python 3",
   "language": "python",
   "name": "python3"
  },
  "language_info": {
   "codemirror_mode": {
    "name": "ipython",
    "version": 3
   },
   "file_extension": ".py",
   "mimetype": "text/x-python",
   "name": "python",
   "nbconvert_exporter": "python",
   "pygments_lexer": "ipython3",
   "version": "3.12.0"
  }
 },
 "nbformat": 4,
 "nbformat_minor": 4
}