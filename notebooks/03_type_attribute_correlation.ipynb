{
 "cells": [
  {
   "cell_type": "markdown",
   "metadata": {},
   "source": [
    "# Notebook 03: Type-Attribute Correlation Analysis\n",
    "\n",
    "**Objective**: Discover patterns in type and attribute combinations in the Digimon Knowledge Graph.\n",
    "\n",
    "This notebook explores:\n",
    "- Distribution analysis of types and attributes by level\n",
    "- Statistical correlation studies between features\n",
    "- Pattern mining for frequent combinations\n",
    "- Predictive analysis of type-attribute relationships\n",
    "\n",
    "---"
   ]
  },
  {
   "cell_type": "markdown",
   "metadata": {},
   "source": [
    "## 1. Setup and Imports"
   ]
  },
  {
   "cell_type": "code",
   "metadata": {
    "ExecuteTime": {
     "end_time": "2025-08-12T01:15:07.082861Z",
     "start_time": "2025-08-12T01:15:06.312492Z"
    }
   },
   "source": "# Standard imports\nimport pandas as pd\nimport numpy as np\nimport matplotlib.pyplot as plt\nimport seaborn as sns\nfrom scipy import stats\nfrom scipy.stats import chi2_contingency, fisher_exact\nfrom sklearn.preprocessing import LabelEncoder\nfrom sklearn.metrics import mutual_info_score\nfrom mlxtend.frequent_patterns import apriori, association_rules\nfrom mlxtend.preprocessing import TransactionEncoder\nimport warnings\nwarnings.filterwarnings('ignore')\n\n# Custom utilities\nfrom utils import (\n    Neo4jConnector, \n    plot_heatmap, save_figure,\n    TYPE_COLORS, ATTRIBUTE_COLORS, LEVEL_COLORS\n)\n\n# Display settings\npd.set_option('display.max_columns', None)\npd.set_option('display.max_rows', 100)\npd.set_option('display.precision', 3)\n\n# Set notebook name for organized output\nnotebook_name = \"03_type_attribute_correlation\"\n\nprint(\"Environment setup complete!\")",
   "outputs": [],
   "execution_count": null
  },
  {
   "cell_type": "markdown",
   "metadata": {},
   "source": [
    "## 2. Load Data"
   ]
  },
  {
   "cell_type": "code",
   "metadata": {
    "ExecuteTime": {
     "end_time": "2025-08-12T01:15:18.629798Z",
     "start_time": "2025-08-12T01:15:18.551587Z"
    }
   },
   "source": [
    "# Connect to database\n",
    "conn = Neo4jConnector()\n",
    "print(\"Connected to Neo4j database\")\n",
    "\n",
    "# Get all Digimon data\n",
    "digimon_df = conn.get_all_digimon()\n",
    "print(f\"\\nLoaded {len(digimon_df)} Digimon records\")\n",
    "\n",
    "# Remove any records with missing type/attribute/level\n",
    "complete_df = digimon_df.dropna(subset=['type', 'attribute', 'level'])\n",
    "print(f\"Complete records (no missing values): {len(complete_df)}\")\n",
    "\n",
    "# Display sample\n",
    "complete_df[['name_en', 'level', 'type', 'attribute']].head(10)"
   ],
   "outputs": [
    {
     "name": "stdout",
     "output_type": "stream",
     "text": [
      "Connected to Neo4j database\n",
      "\n",
      "Loaded 1258 Digimon records\n",
      "Complete records (no missing values): 1249\n"
     ]
    },
    {
     "data": {
      "text/plain": [
       "              name_en     level                   type attribute\n",
       "0           ABBADOMON      Mega  Tribe unknown Species   Unknown\n",
       "1       ABBADOMONCORE      Mega  Tribe unknown Species   Unknown\n",
       "2         ACHILLESMON      Mega          Beastman Type     Virus\n",
       "3        AEGIOCHUSMON  Ultimate               God Type   Vaccine\n",
       "4   AEGIOCHUSMON:BLUE  Ultimate               God Type   Vaccine\n",
       "5   AEGIOCHUSMON:DARK  Ultimate               God Type   Vaccine\n",
       "6  AEGIOCHUSMON:GREEN  Ultimate               God Type   Vaccine\n",
       "7  AEGIOCHUSMON_HOLLY  Ultimate               God Type   Vaccine\n",
       "8            AEGIOMON  Champion               God Type   Vaccine\n",
       "9         AGEISDRAMON      Mega            cyborg Type   Vaccine"
      ],
      "text/html": [
       "<div>\n",
       "<style scoped>\n",
       "    .dataframe tbody tr th:only-of-type {\n",
       "        vertical-align: middle;\n",
       "    }\n",
       "\n",
       "    .dataframe tbody tr th {\n",
       "        vertical-align: top;\n",
       "    }\n",
       "\n",
       "    .dataframe thead th {\n",
       "        text-align: right;\n",
       "    }\n",
       "</style>\n",
       "<table border=\"1\" class=\"dataframe\">\n",
       "  <thead>\n",
       "    <tr style=\"text-align: right;\">\n",
       "      <th></th>\n",
       "      <th>name_en</th>\n",
       "      <th>level</th>\n",
       "      <th>type</th>\n",
       "      <th>attribute</th>\n",
       "    </tr>\n",
       "  </thead>\n",
       "  <tbody>\n",
       "    <tr>\n",
       "      <th>0</th>\n",
       "      <td>ABBADOMON</td>\n",
       "      <td>Mega</td>\n",
       "      <td>Tribe unknown Species</td>\n",
       "      <td>Unknown</td>\n",
       "    </tr>\n",
       "    <tr>\n",
       "      <th>1</th>\n",
       "      <td>ABBADOMONCORE</td>\n",
       "      <td>Mega</td>\n",
       "      <td>Tribe unknown Species</td>\n",
       "      <td>Unknown</td>\n",
       "    </tr>\n",
       "    <tr>\n",
       "      <th>2</th>\n",
       "      <td>ACHILLESMON</td>\n",
       "      <td>Mega</td>\n",
       "      <td>Beastman Type</td>\n",
       "      <td>Virus</td>\n",
       "    </tr>\n",
       "    <tr>\n",
       "      <th>3</th>\n",
       "      <td>AEGIOCHUSMON</td>\n",
       "      <td>Ultimate</td>\n",
       "      <td>God Type</td>\n",
       "      <td>Vaccine</td>\n",
       "    </tr>\n",
       "    <tr>\n",
       "      <th>4</th>\n",
       "      <td>AEGIOCHUSMON:BLUE</td>\n",
       "      <td>Ultimate</td>\n",
       "      <td>God Type</td>\n",
       "      <td>Vaccine</td>\n",
       "    </tr>\n",
       "    <tr>\n",
       "      <th>5</th>\n",
       "      <td>AEGIOCHUSMON:DARK</td>\n",
       "      <td>Ultimate</td>\n",
       "      <td>God Type</td>\n",
       "      <td>Vaccine</td>\n",
       "    </tr>\n",
       "    <tr>\n",
       "      <th>6</th>\n",
       "      <td>AEGIOCHUSMON:GREEN</td>\n",
       "      <td>Ultimate</td>\n",
       "      <td>God Type</td>\n",
       "      <td>Vaccine</td>\n",
       "    </tr>\n",
       "    <tr>\n",
       "      <th>7</th>\n",
       "      <td>AEGIOCHUSMON_HOLLY</td>\n",
       "      <td>Ultimate</td>\n",
       "      <td>God Type</td>\n",
       "      <td>Vaccine</td>\n",
       "    </tr>\n",
       "    <tr>\n",
       "      <th>8</th>\n",
       "      <td>AEGIOMON</td>\n",
       "      <td>Champion</td>\n",
       "      <td>God Type</td>\n",
       "      <td>Vaccine</td>\n",
       "    </tr>\n",
       "    <tr>\n",
       "      <th>9</th>\n",
       "      <td>AGEISDRAMON</td>\n",
       "      <td>Mega</td>\n",
       "      <td>cyborg Type</td>\n",
       "      <td>Vaccine</td>\n",
       "    </tr>\n",
       "  </tbody>\n",
       "</table>\n",
       "</div>"
      ]
     },
     "execution_count": 3,
     "metadata": {},
     "output_type": "execute_result"
    }
   ],
   "execution_count": 3
  },
  {
   "cell_type": "markdown",
   "metadata": {},
   "source": [
    "## 3. Distribution Analysis"
   ]
  },
  {
   "cell_type": "code",
   "metadata": {
    "ExecuteTime": {
     "end_time": "2025-08-12T01:15:25.258793Z",
     "start_time": "2025-08-12T01:15:25.235236Z"
    }
   },
   "source": [
    "# Type frequency by level\n",
    "type_by_level = pd.crosstab(complete_df['level'], complete_df['type'])\n",
    "\n",
    "# Order levels properly\n",
    "level_order = ['Baby', 'In-Training', 'Rookie', 'Champion', 'Ultimate', 'Mega', 'Ultra']\n",
    "type_by_level = type_by_level.reindex(level_order, fill_value=0)\n",
    "\n",
    "print(\"=== TYPE DISTRIBUTION BY LEVEL ===\")\n",
    "print(type_by_level.head(10))  # Show first 10 types\n",
    "print(f\"\\nTotal unique types: {type_by_level.shape[1]}\")"
   ],
   "outputs": [
    {
     "name": "stdout",
     "output_type": "stream",
     "text": [
      "=== TYPE DISTRIBUTION BY LEVEL ===\n",
      "type         9000 Type  Aliens Type  Amphibians Type  Ancient Beast Type  \\\n",
      "level                                                                      \n",
      "Baby                 0            0                0                   0   \n",
      "In-Training          0            0                0                   0   \n",
      "Rookie               0            0                5                   0   \n",
      "Champion             0            0                1                   0   \n",
      "Ultimate             0            2                1                   2   \n",
      "Mega                 1            0                0                   4   \n",
      "Ultra                0            0                0                   0   \n",
      "\n",
      "type         Ancient Birdman Type  Ancient Crustaceans Type  \\\n",
      "level                                                         \n",
      "Baby                            0                         0   \n",
      "In-Training                     0                         0   \n",
      "Rookie                          0                         0   \n",
      "Champion                        0                         0   \n",
      "Ultimate                        0                         2   \n",
      "Mega                            1                         0   \n",
      "Ultra                           0                         0   \n",
      "\n",
      "type         Ancient Dragon Type  Ancient Dragons Type  \\\n",
      "level                                                    \n",
      "Baby                           0                     0   \n",
      "In-Training                    0                     0   \n",
      "Rookie                         0                     0   \n",
      "Champion                       0                     0   \n",
      "Ultimate                       0                     0   \n",
      "Mega                           3                     2   \n",
      "Ultra                          0                     0   \n",
      "\n",
      "type         Ancient Holy Knight Type  Ancient Mythical Beast Type  \\\n",
      "level                                                                \n",
      "Baby                                0                            0   \n",
      "In-Training                         0                            0   \n",
      "Rookie                              0                            0   \n",
      "Champion                            0                            0   \n",
      "Ultimate                            0                            0   \n",
      "Mega                                1                            1   \n",
      "Ultra                               0                            0   \n",
      "\n",
      "type         Ancient Type  Ancient aquatic beasts Type  Ancient birds Type  \\\n",
      "level                                                                        \n",
      "Baby                    0                            0                   0   \n",
      "In-Training             0                            0                   0   \n",
      "Rookie                  0                            0                   0   \n",
      "Champion                0                            0                   2   \n",
      "Ultimate                0                            0                   0   \n",
      "Mega                    2                            1                   1   \n",
      "Ultra                   0                            0                   0   \n",
      "\n",
      "type         Ancient fairies Type  Ancient fish Type  Ancient insects Type  \\\n",
      "level                                                                        \n",
      "Baby                            0                  0                     0   \n",
      "In-Training                     0                  0                     0   \n",
      "Rookie                          1                  0                     0   \n",
      "Champion                        0                  1                     0   \n",
      "Ultimate                        0                  0                     0   \n",
      "Mega                            1                  0                     1   \n",
      "Ultra                           0                  0                     0   \n",
      "\n",
      "type         Ancient minerals Type  Ancient mutations Type  \\\n",
      "level                                                        \n",
      "Baby                             0                       0   \n",
      "In-Training                      0                       0   \n",
      "Rookie                           0                       0   \n",
      "Champion                         0                       0   \n",
      "Ultimate                         0                       0   \n",
      "Mega                             1                       1   \n",
      "Ultra                            0                       0   \n",
      "\n",
      "type         Ancient plants Type  Aquatic Beast Man Type  Aquatic Type  \\\n",
      "level                                                                    \n",
      "Baby                           0                       0             0   \n",
      "In-Training                    0                       0             0   \n",
      "Rookie                         0                       0             1   \n",
      "Champion                       0                       0             6   \n",
      "Ultimate                       0                       5             6   \n",
      "Mega                           1                       0             3   \n",
      "Ultra                          0                       0             0   \n",
      "\n",
      "type         Aquatic mammals Type  Archangel Type  Armored Dragon Type  \\\n",
      "level                                                                    \n",
      "Baby                            0               0                    0   \n",
      "In-Training                     0               0                    0   \n",
      "Rookie                          1               0                    0   \n",
      "Champion                        1               0                    3   \n",
      "Ultimate                        1               3                    1   \n",
      "Mega                            0               0                    0   \n",
      "Ultra                           0               0                    0   \n",
      "\n",
      "type         Beast Dragon Type  Beast Knight Type  Beastman Type  \\\n",
      "level                                                              \n",
      "Baby                         0                  0              0   \n",
      "In-Training                  0                  0              0   \n",
      "Rookie                       0                  0              3   \n",
      "Champion                     2                  0             13   \n",
      "Ultimate                     3                  0             14   \n",
      "Mega                         2                  4              5   \n",
      "Ultra                        0                  0              0   \n",
      "\n",
      "type         Bird Dragon Type  Birds Type  Brown Type  Bulb Type  \\\n",
      "level                                                              \n",
      "Baby                        0           0           0          0   \n",
      "In-Training                 0           0           0          0   \n",
      "Rookie                      2           0           0          0   \n",
      "Champion                    1           0           0          0   \n",
      "Ultimate                    1           4           0          0   \n",
      "Mega                        0           0           0          0   \n",
      "Ultra                       0           0           0          0   \n",
      "\n",
      "type         Carnivorous plants Type  Chick bird Type  Chief Ryu Type  \\\n",
      "level                                                                   \n",
      "Baby                               0                0               0   \n",
      "In-Training                        0                0               0   \n",
      "Rookie                             0                1               0   \n",
      "Champion                           1                0               0   \n",
      "Ultimate                           1                0               1   \n",
      "Mega                               0                0               2   \n",
      "Ultra                              0                0               0   \n",
      "\n",
      "type         Crown Dragon Type  Crustaceans Type  Dark Knight Type  \\\n",
      "level                                                                \n",
      "Baby                         0                 0                 0   \n",
      "In-Training                  0                 0                 0   \n",
      "Rookie                       1                 4                 0   \n",
      "Champion                     1                 1                 0   \n",
      "Ultimate                     2                 1                 0   \n",
      "Mega                         0                 0                 2   \n",
      "Ultra                        0                 0                 0   \n",
      "\n",
      "type         Demon Beast Type  Demon Dragon Type  Demon King Type  Demon Type  \\\n",
      "level                                                                           \n",
      "Baby                        0                  0                0           0   \n",
      "In-Training                 0                  0                0           0   \n",
      "Rookie                      2                  1                0           0   \n",
      "Champion                    7                  7                0           6   \n",
      "Ultimate                    7                  1                1          11   \n",
      "Mega                        6                  1               19          10   \n",
      "Ultra                       0                  0                0           0   \n",
      "\n",
      "type         Demons Type  Divine Beast Type  Dragon Type  Dragon Warrior Type  \\\n",
      "level                                                                           \n",
      "Baby                   0                  0            0                    0   \n",
      "In-Training            0                  0            0                    0   \n",
      "Rookie                 3                  0            0                    0   \n",
      "Champion               6                  0            7                    0   \n",
      "Ultimate               1                  0            5                    0   \n",
      "Mega                   0                  3           12                    0   \n",
      "Ultra                  0                  0            0                    0   \n",
      "\n",
      "type         Earth Dragon Type  Enhancement Type  Evil Dragon Type  \\\n",
      "level                                                                \n",
      "Baby                         0                 0                 0   \n",
      "In-Training                  0                 0                 0   \n",
      "Rookie                       0                 0                 0   \n",
      "Champion                     0                 0                 2   \n",
      "Ultimate                     1                 0                 1   \n",
      "Mega                         1                 0                 3   \n",
      "Ultra                        0                 0                 0   \n",
      "\n",
      "type         Evil God Type  Fallen Angel Type  Flame Dragon Type  \\\n",
      "level                                                              \n",
      "Baby                     0                  0                  0   \n",
      "In-Training              0                  0                  0   \n",
      "Rookie                   0                  0                  0   \n",
      "Champion                 0                  2                  1   \n",
      "Ultimate                 0                  6                  0   \n",
      "Mega                     2                  4                  0   \n",
      "Ultra                    0                  0                  0   \n",
      "\n",
      "type         Fluffy body Type  Galaxy Type  Giant bird Type  God Type  \\\n",
      "level                                                                   \n",
      "Baby                        0            0                0         0   \n",
      "In-Training                 0            0                0         0   \n",
      "Rookie                      2            0                0         0   \n",
      "Champion                    9            0                5         1   \n",
      "Ultimate                    2            0                1         6   \n",
      "Mega                        1            1                2        30   \n",
      "Ultra                       0            0                0         0   \n",
      "\n",
      "type         Holy Beast Type  Holy Dragon Type  Holy Knight Type  \\\n",
      "level                                                              \n",
      "Baby                       0                 0                 0   \n",
      "In-Training                0                 0                 0   \n",
      "Rookie                     4                 0                 0   \n",
      "Champion                   8                 0                 0   \n",
      "Ultimate                  12                 2                 0   \n",
      "Mega                       5                 6                33   \n",
      "Ultra                      0                 0                 0   \n",
      "\n",
      "type         Holy Sword Type  Ice snow Type  Invade Type  Iwa Ryu Type  \\\n",
      "level                                                                    \n",
      "Baby                       0              0            0             0   \n",
      "In-Training                0              0            0             0   \n",
      "Rookie                     0              0            0             1   \n",
      "Champion                   0              3            2             1   \n",
      "Ultimate                   0              1            0             1   \n",
      "Mega                       1              1            0             0   \n",
      "Ultra                      0              0            0             0   \n",
      "\n",
      "type         Kidra Type  Larva Type  Lesser Type  Light Dragon Type  \\\n",
      "level                                                                 \n",
      "Baby                  0           0            0                  0   \n",
      "In-Training           0           0            0                  0   \n",
      "Rookie                0           3            0                  0   \n",
      "Champion              1           0            0                  0   \n",
      "Ultimate              1           0            0                  0   \n",
      "Mega                  1           0            0                  4   \n",
      "Ultra                 0           0            0                  0   \n",
      "\n",
      "type         Liquid crystal thin Type  Little Angel Type  Little Dragon Type  \\\n",
      "level                                                                          \n",
      "Baby                                0                  0                   0   \n",
      "In-Training                         0                  0                   0   \n",
      "Rookie                              0                  0                   5   \n",
      "Champion                            0                  0                   0   \n",
      "Ultimate                            0                  0                   0   \n",
      "Mega                                0                  0                   0   \n",
      "Ultra                               0                  0                   0   \n",
      "\n",
      "type         Little bird Type  Little devil Type  Machine Type  \\\n",
      "level                                                            \n",
      "Baby                        0                  0             0   \n",
      "In-Training                 0                  0             0   \n",
      "Rookie                      0                  3             5   \n",
      "Champion                    0                  1             8   \n",
      "Ultimate                    0                  0            10   \n",
      "Mega                        0                  0            11   \n",
      "Ultra                       0                  0             0   \n",
      "\n",
      "type         Magic Knight Type  Magical Warrior Type  Mysterious Beast Type  \\\n",
      "level                                                                         \n",
      "Baby                         0                     0                      0   \n",
      "In-Training                  0                     0                      0   \n",
      "Rookie                       0                     0                      0   \n",
      "Champion                     0                     0                      3   \n",
      "Ultimate                     0                     1                      1   \n",
      "Mega                         2                     0                      1   \n",
      "Ultra                        0                     0                      0   \n",
      "\n",
      "type         NODATA  Noh angel Type  Parasitic Type  Perfect Type  \\\n",
      "level                                                               \n",
      "Baby              0               0               0             0   \n",
      "In-Training       0               0               0             0   \n",
      "Rookie            0               0               0             0   \n",
      "Champion          0               0               0             0   \n",
      "Ultimate          0               0               0             1   \n",
      "Mega              1               1               1             0   \n",
      "Ultra             0               0               0             0   \n",
      "\n",
      "type         Phantom Dragon Type  Power Angel Type  Priest Type  \\\n",
      "level                                                             \n",
      "Baby                           0                 0            0   \n",
      "In-Training                    0                 0            0   \n",
      "Rookie                         0                 0            0   \n",
      "Champion                       2                 0            0   \n",
      "Ultimate                       0                 0            1   \n",
      "Mega                           0                 1            0   \n",
      "Ultra                          0                 0            0   \n",
      "\n",
      "type         Protector Type  Pterosaur Type  Puppet Type  Rare beast Type  \\\n",
      "level                                                                       \n",
      "Baby                      0               0            0                0   \n",
      "In-Training               0               0            0                0   \n",
      "Rookie                    1               0           10                0   \n",
      "Champion                  1               1           15                2   \n",
      "Ultimate                  1               0           13                0   \n",
      "Mega                      1               0            9                0   \n",
      "Ultra                     0               0            0                0   \n",
      "\n",
      "type         Revue Type  Saint Bird Type  Sea Dragon Type  Sea beast Type  \\\n",
      "level                                                                       \n",
      "Baby                  0                0                0               0   \n",
      "In-Training           0                0                0               0   \n",
      "Rookie                0                0                0               2   \n",
      "Champion              0                0                1               1   \n",
      "Ultimate              0                1                0               1   \n",
      "Mega                  0                3                0               0   \n",
      "Ultra                 0                0                0               0   \n",
      "\n",
      "type         Sea people Type  Seraph Type  Slime Type  Smoke Type  \\\n",
      "level                                                               \n",
      "Baby                       0            0           0           0   \n",
      "In-Training                0            0           0           0   \n",
      "Rookie                     0            0           0           0   \n",
      "Champion                   0            0           0           0   \n",
      "Ultimate                   1            0           0           0   \n",
      "Mega                       0            2           0           0   \n",
      "Ultra                      0            0           0           0   \n",
      "\n",
      "type         Special Type  Spirit Type  Super major Type  Sword Dragon Type  \\\n",
      "level                                                                         \n",
      "Baby                    0            0                 0                  0   \n",
      "In-Training             0            0                 0                  0   \n",
      "Rookie                  0            0                 0                  0   \n",
      "Champion                0            0                 0                  0   \n",
      "Ultimate                0            0                 0                  0   \n",
      "Mega                    5            0                 0                  0   \n",
      "Ultra                   0            0                 0                  0   \n",
      "\n",
      "type         Synthesis Type  Tenryu Type  The angel Type  \\\n",
      "level                                                      \n",
      "Baby                      0            0               0   \n",
      "In-Training               0            0               0   \n",
      "Rookie                    1            0               0   \n",
      "Champion                  1            0               0   \n",
      "Ultimate                  3            2               1   \n",
      "Mega                      1            1               3   \n",
      "Ultra                     0            0               0   \n",
      "\n",
      "type         The demon beast Type  The master angel Type  \\\n",
      "level                                                      \n",
      "Baby                            0                      0   \n",
      "In-Training                     0                      0   \n",
      "Rookie                          1                      0   \n",
      "Champion                        2                      0   \n",
      "Ultimate                        1                      0   \n",
      "Mega                            1                      1   \n",
      "Ultra                           0                      0   \n",
      "\n",
      "type         Tribe unknown Species  Unable to analyze  Undead Type  Unknown  \\\n",
      "level                                                                         \n",
      "Baby                             0                  0            0        0   \n",
      "In-Training                      0                  0            0        0   \n",
      "Rookie                           2                  0            1        1   \n",
      "Champion                         2                  0            2        3   \n",
      "Ultimate                         1                  0           11        3   \n",
      "Mega                             7                  1            3        5   \n",
      "Ultra                            0                  0            0        0   \n",
      "\n",
      "type         Warrior Type  Wisdom Angel Type  Witch bird Type  Wonderful Type  \\\n",
      "level                                                                           \n",
      "Baby                    0                  0                0               0   \n",
      "In-Training             0                  0                0               0   \n",
      "Rookie                  0                  0                0               0   \n",
      "Champion                1                  0                0               0   \n",
      "Ultimate                2                  0                2               0   \n",
      "Mega                    3                  4                0               1   \n",
      "Ultra                   0                  0                0               0   \n",
      "\n",
      "type         Young Dragon Type  alien Type  angel Type  beast Type  bird Type  \\\n",
      "level                                                                           \n",
      "Baby                         0           0           0           0          0   \n",
      "In-Training                  0           0           0           0          0   \n",
      "Rookie                       0           0           2          16          5   \n",
      "Champion                     0           0           3          14          2   \n",
      "Ultimate                     0           0           0           1          1   \n",
      "Mega                         0           0           1           0          0   \n",
      "Ultra                        0           0           0           0          0   \n",
      "\n",
      "type         child Type  cyborg Type  dinosaur Type  dragon Type  fairy Type  \\\n",
      "level                                                                          \n",
      "Baby                  0            0              0            0           0   \n",
      "In-Training           0            0              0            0           0   \n",
      "Rookie                0            3              6            2           1   \n",
      "Champion              0           10             14            3           1   \n",
      "Ultimate              0           34              1            1           7   \n",
      "Mega                  0           35              3            0          10   \n",
      "Ultra                 0            0              0            0           0   \n",
      "\n",
      "type         flame Type  food Type  ghost Type  incarnation Type  insect Type  \\\n",
      "level                                                                           \n",
      "Baby                  0          0           0                 0            0   \n",
      "In-Training           0          0           0                 0            0   \n",
      "Rookie                1          2           1                 0            5   \n",
      "Champion              2          3           2                 0           12   \n",
      "Ultimate              2          0           1                 0            8   \n",
      "Mega                  0          0           1                 2            7   \n",
      "Ultra                 0          0           0                 0            0   \n",
      "\n",
      "type         major Type  mammalian Type  mine Type  mineral Type  minor Type  \\\n",
      "level                                                                          \n",
      "Baby                  0               0          0             0           0   \n",
      "In-Training           0               0          0             0           0   \n",
      "Rookie                0              11          0             0           0   \n",
      "Champion              0               2          0             2           0   \n",
      "Ultimate              0               0          1             1           0   \n",
      "Mega                  0               0          0             3           0   \n",
      "Ultra                 0               0          0             0           0   \n",
      "\n",
      "type         musical instrument Type  mutant Type  mutation  mutation Type  \\\n",
      "level                                                                        \n",
      "Baby                               0            0         0              0   \n",
      "In-Training                        0            0         0              0   \n",
      "Rookie                             0            0         0              2   \n",
      "Champion                           0            1         1             14   \n",
      "Ultimate                           0            0         0             13   \n",
      "Mega                               0            0         0             10   \n",
      "Ultra                              0            0         0              0   \n",
      "\n",
      "type         ore Type  plant Type  reptiles Type  tropical fish Type  \\\n",
      "level                                                                  \n",
      "Baby                0           0              0                   0   \n",
      "In-Training         0           0              0                   0   \n",
      "Rookie              2           7             10                   1   \n",
      "Champion            0           7              2                   0   \n",
      "Ultimate            2           7              0                   0   \n",
      "Mega                0           1              0                   0   \n",
      "Ultra               0           0              0                   0   \n",
      "\n",
      "type         weapon Type  \n",
      "level                     \n",
      "Baby                   0  \n",
      "In-Training            0  \n",
      "Rookie                 2  \n",
      "Champion               1  \n",
      "Ultimate               1  \n",
      "Mega                   0  \n",
      "Ultra                  0  \n",
      "\n",
      "Total unique types: 140\n"
     ]
    }
   ],
   "execution_count": 4
  },
  {
   "cell_type": "code",
   "metadata": {
    "ExecuteTime": {
     "end_time": "2025-08-12T01:15:26.176675Z",
     "start_time": "2025-08-12T01:15:26.168812Z"
    }
   },
   "source": [
    "# Attribute distribution by type (top 15 types)\n",
    "top_types = complete_df['type'].value_counts().head(15).index\n",
    "attr_by_type = pd.crosstab(\n",
    "    complete_df[complete_df['type'].isin(top_types)]['type'],\n",
    "    complete_df[complete_df['type'].isin(top_types)]['attribute']\n",
    ")\n",
    "\n",
    "print(\"=== ATTRIBUTE DISTRIBUTION BY TOP TYPES ===\")\n",
    "print(attr_by_type)"
   ],
   "outputs": [
    {
     "name": "stdout",
     "output_type": "stream",
     "text": [
      "=== ATTRIBUTE DISTRIBUTION BY TOP TYPES ===\n",
      "attribute             Data  Free  Unknown  Vaccine  Variable  Virus\n",
      "type                                                               \n",
      "Beastman Type      0     9     2        0       18         2      7\n",
      "Demon Type         0     9     5        0        3         4     18\n",
      "Dragon Type        0     5     2        0        8         0     12\n",
      "God Type           0     9     0        0       20         0      9\n",
      "Holy Beast Type    0     7     2        0       18         0      4\n",
      "Holy Knight Type   0    12     1        0       14         0      8\n",
      "Lesser Type       30     0     0        0        0         0      0\n",
      "Machine Type       2    11     2        0       11         0     15\n",
      "Puppet Type        0    14     1        0        8         0     25\n",
      "Slime Type        35     0     0        0        0         0      0\n",
      "beast Type         0    12     5        0       15         1      6\n",
      "cyborg Type        0    25     3        0       22         8     40\n",
      "dinosaur Type      0     6     1        0       10         0      9\n",
      "insect Type        0     6    12        0        8         1     14\n",
      "mutation Type      3    22     7        1        4         2     17\n"
     ]
    }
   ],
   "execution_count": 5
  },
  {
   "cell_type": "code",
   "metadata": {
    "ExecuteTime": {
     "end_time": "2025-08-12T01:15:28.456282Z",
     "start_time": "2025-08-12T01:15:28.446451Z"
    }
   },
   "source": [
    "[]# Create type-attribute combination frequency\n",
    "type_attr_combinations = complete_df.groupby(['type', 'attribute']).size().reset_index(name='count')\n",
    "type_attr_combinations = type_attr_combinations.sort_values('count', ascending=False)\n",
    "\n",
    "print(\"=== MOST COMMON TYPE-ATTRIBUTE COMBINATIONS ===\")\n",
    "print(type_attr_combinations.head(20))\n",
    "\n",
    "# Rare combinations\n",
    "rare_combinations = type_attr_combinations[type_attr_combinations['count'] == 1]\n",
    "print(f\"\\nNumber of unique (rare) combinations: {len(rare_combinations)}\")\n",
    "print(\"\\nExample rare combinations:\")\n",
    "print(rare_combinations.head(10))"
   ],
   "outputs": [
    {
     "name": "stdout",
     "output_type": "stream",
     "text": [
      "=== MOST COMMON TYPE-ATTRIBUTE COMBINATIONS ===\n",
      "                 type attribute  count\n",
      "229       cyborg Type     Virus     40\n",
      "179        Slime Type               35\n",
      "132       Lesser Type               30\n",
      "225       cyborg Type      Data     25\n",
      "166       Puppet Type     Virus     25\n",
      "227       cyborg Type   Vaccine     22\n",
      "273     mutation Type      Data     22\n",
      "109          God Type   Vaccine     20\n",
      "77    Demon King Type     Virus     20\n",
      "72   Demon Beast Type     Virus     19\n",
      "113   Holy Beast Type   Vaccine     18\n",
      "82         Demon Type     Virus     18\n",
      "202       Undead Type     Virus     18\n",
      "48      Beastman Type   Vaccine     18\n",
      "278     mutation Type     Virus     17\n",
      "217        beast Type   Vaccine     15\n",
      "145      Machine Type     Virus     15\n",
      "119  Holy Knight Type   Vaccine     14\n",
      "163       Puppet Type      Data     14\n",
      "204           Unknown   Unknown     14\n",
      "\n",
      "Number of unique (rare) combinations: 112\n",
      "\n",
      "Example rare combinations:\n",
      "                        type attribute  count\n",
      "263                mine Type     Virus      1\n",
      "271                 mutation      Data      1\n",
      "293              weapon Type      Free      1\n",
      "255              insect Type  Variable      1\n",
      "269  musical instrument Type   Vaccine      1\n",
      "213               alien Type   Vaccine      1\n",
      "264             mineral Type      Data      1\n",
      "242               flame Type                1\n",
      "291       tropical fish Type   Vaccine      1\n",
      "268               minor Type                1\n"
     ]
    }
   ],
   "execution_count": 6
  },
  {
   "cell_type": "markdown",
   "metadata": {},
   "source": [
    "## 4. Statistical Correlation Analysis"
   ]
  },
  {
   "cell_type": "code",
   "metadata": {
    "ExecuteTime": {
     "end_time": "2025-08-12T01:15:31.339004Z",
     "start_time": "2025-08-12T01:15:31.327690Z"
    }
   },
   "source": [
    "# Chi-square test for independence between type and attribute\n",
    "contingency_table = pd.crosstab(complete_df['type'], complete_df['attribute'])\n",
    "chi2, p_value, dof, expected = chi2_contingency(contingency_table)\n",
    "\n",
    "print(\"=== CHI-SQUARE TEST: Type vs Attribute ===\")\n",
    "print(f\"Chi-square statistic: {chi2:.2f}\")\n",
    "print(f\"p-value: {p_value:.2e}\")\n",
    "print(f\"Degrees of freedom: {dof}\")\n",
    "\n",
    "if p_value < 0.05:\n",
    "    print(\"\\nResult: Type and Attribute are DEPENDENT (p < 0.05)\")\n",
    "else:\n",
    "    print(\"\\nResult: Type and Attribute are INDEPENDENT (p >= 0.05)\")"
   ],
   "outputs": [
    {
     "name": "stdout",
     "output_type": "stream",
     "text": [
      "=== CHI-SQUARE TEST: Type vs Attribute ===\n",
      "Chi-square statistic: 3865.27\n",
      "p-value: 0.00e+00\n",
      "Degrees of freedom: 973\n",
      "\n",
      "Result: Type and Attribute are DEPENDENT (p < 0.05)\n"
     ]
    }
   ],
   "execution_count": 7
  },
  {
   "cell_type": "code",
   "metadata": {
    "ExecuteTime": {
     "end_time": "2025-08-12T01:15:34.214433Z",
     "start_time": "2025-08-12T01:15:34.208088Z"
    }
   },
   "source": "# Calculate Cramér's V for effect size\ndef cramers_v(confusion_matrix):\n    try:\n        chi2 = chi2_contingency(confusion_matrix)[0]\n        n = confusion_matrix.sum().sum()\n        r, k = confusion_matrix.shape\n        # Handle edge cases\n        if n == 0 or min(r, k) <= 1:\n            return 0.0\n        return np.sqrt(chi2 / (n * (min(r, k) - 1)))\n    except ValueError:\n        # Return 0 if chi-square test fails\n        return 0.0\n\ncramers_v_value = cramers_v(contingency_table)\nprint(f\"\\nCramér's V (effect size): {cramers_v_value:.3f}\")\n\n# Interpretation\nif cramers_v_value < 0.1:\n    effect = \"negligible\"\nelif cramers_v_value < 0.3:\n    effect = \"small\"\nelif cramers_v_value < 0.5:\n    effect = \"medium\"\nelse:\n    effect = \"large\"\n\nprint(f\"Effect size interpretation: {effect}\")",
   "outputs": [
    {
     "name": "stdout",
     "output_type": "stream",
     "text": [
      "\n",
      "Cramér's V (effect size): 0.665\n",
      "Effect size interpretation: large\n"
     ]
    }
   ],
   "execution_count": 8
  },
  {
   "cell_type": "code",
   "metadata": {
    "ExecuteTime": {
     "end_time": "2025-08-12T01:15:36.905276Z",
     "start_time": "2025-08-12T01:15:36.895844Z"
    }
   },
   "source": [
    "# Mutual Information between type and attribute\n",
    "le_type = LabelEncoder()\n",
    "le_attr = LabelEncoder()\n",
    "\n",
    "type_encoded = le_type.fit_transform(complete_df['type'])\n",
    "attr_encoded = le_attr.fit_transform(complete_df['attribute'])\n",
    "\n",
    "mi_score = mutual_info_score(type_encoded, attr_encoded)\n",
    "print(f\"\\nMutual Information Score: {mi_score:.3f}\")\n",
    "\n",
    "# Normalized MI (0 to 1)\n",
    "from sklearn.metrics import normalized_mutual_info_score\n",
    "nmi_score = normalized_mutual_info_score(type_encoded, attr_encoded)\n",
    "print(f\"Normalized Mutual Information: {nmi_score:.3f}\")"
   ],
   "outputs": [
    {
     "name": "stdout",
     "output_type": "stream",
     "text": [
      "\n",
      "Mutual Information Score: 0.688\n",
      "Normalized Mutual Information: 0.237\n"
     ]
    }
   ],
   "execution_count": 9
  },
  {
   "cell_type": "code",
   "metadata": {
    "ExecuteTime": {
     "end_time": "2025-08-12T01:15:39.311957Z",
     "start_time": "2025-08-12T01:15:39.285867Z"
    }
   },
   "source": "# Test associations for each level separately\nprint(\"\\n=== CHI-SQUARE TESTS BY LEVEL ===\")\nlevel_associations = []\n\nfor level in level_order:\n    level_data = complete_df[complete_df['level'] == level]\n    if len(level_data) > 20:  # Only test if sufficient data\n        cont_table = pd.crosstab(level_data['type'], level_data['attribute'])\n        # Remove types/attributes with very low counts\n        cont_table = cont_table.loc[(cont_table.sum(axis=1) > 2), (cont_table.sum(axis=0) > 2)]\n        \n        if cont_table.shape[0] > 1 and cont_table.shape[1] > 1:\n            try:\n                # Check if any cells would have expected frequency < 5\n                row_totals = cont_table.sum(axis=1)\n                col_totals = cont_table.sum(axis=0)\n                total = cont_table.sum().sum()\n                \n                # Calculate minimum expected frequency\n                min_expected = float('inf')\n                for i in range(len(row_totals)):\n                    for j in range(len(col_totals)):\n                        expected = (row_totals.iloc[i] * col_totals.iloc[j]) / total\n                        if expected < min_expected:\n                            min_expected = expected\n                \n                # Only perform test if minimum expected frequency is reasonable\n                if min_expected >= 1:\n                    chi2, p_value, _, _ = chi2_contingency(cont_table)\n                    cramers_v_val = cramers_v(cont_table)\n                    \n                    level_associations.append({\n                        'level': level,\n                        'n_digimon': len(level_data),\n                        'chi2': chi2,\n                        'p_value': p_value,\n                        'cramers_v': cramers_v_val\n                    })\n                    \n                    print(f\"\\n{level}:\")\n                    print(f\"  N = {len(level_data)}\")\n                    print(f\"  Chi² = {chi2:.2f}, p = {p_value:.3f}\")\n                    print(f\"  Cramér's V = {cramers_v_val:.3f}\")\n                else:\n                    print(f\"\\n{level}: Skipped (expected frequencies too low)\")\n                    \n            except ValueError as e:\n                print(f\"\\n{level}: Skipped due to error: {str(e)}\")\n                continue\n\nlevel_assoc_df = pd.DataFrame(level_associations)",
   "outputs": [
    {
     "name": "stdout",
     "output_type": "stream",
     "text": [
      "\n",
      "=== CHI-SQUARE TESTS BY LEVEL ===\n",
      "\n",
      "Rookie: Skipped (expected frequencies too low)\n",
      "\n",
      "Champion: Skipped (expected frequencies too low)\n",
      "\n",
      "Ultimate: Skipped (expected frequencies too low)\n",
      "\n",
      "Mega: Skipped (expected frequencies too low)\n"
     ]
    }
   ],
   "execution_count": 10
  },
  {
   "cell_type": "markdown",
   "metadata": {},
   "source": [
    "## 5. Pattern Mining"
   ]
  },
  {
   "cell_type": "code",
   "metadata": {
    "ExecuteTime": {
     "end_time": "2025-08-12T01:15:47.586397Z",
     "start_time": "2025-08-12T01:15:47.555570Z"
    }
   },
   "source": [
    "# Prepare data for association rule mining\n",
    "# Create transactions with type, attribute, and level\n",
    "transactions = []\n",
    "for _, row in complete_df.iterrows():\n",
    "    transaction = [\n",
    "        f\"type:{row['type']}\",\n",
    "        f\"attr:{row['attribute']}\",\n",
    "        f\"level:{row['level']}\"\n",
    "    ]\n",
    "    transactions.append(transaction)\n",
    "\n",
    "# Convert to one-hot encoding\n",
    "te = TransactionEncoder()\n",
    "te_ary = te.fit(transactions).transform(transactions)\n",
    "transaction_df = pd.DataFrame(te_ary, columns=te.columns_)\n",
    "\n",
    "print(f\"Transaction dataset shape: {transaction_df.shape}\")\n",
    "print(f\"Number of features: {len(te.columns_)}\")"
   ],
   "outputs": [
    {
     "name": "stdout",
     "output_type": "stream",
     "text": [
      "Transaction dataset shape: (1249, 163)\n",
      "Number of features: 163\n"
     ]
    }
   ],
   "execution_count": 11
  },
  {
   "cell_type": "code",
   "metadata": {
    "ExecuteTime": {
     "end_time": "2025-08-12T01:15:57.620581Z",
     "start_time": "2025-08-12T01:15:57.611810Z"
    }
   },
   "source": [
    "# Find frequent itemsets\n",
    "min_support = 0.05  # At least 5% of Digimon\n",
    "frequent_itemsets = apriori(transaction_df, min_support=min_support, use_colnames=True)\n",
    "frequent_itemsets = frequent_itemsets.sort_values('support', ascending=False)\n",
    "\n",
    "print(f\"=== FREQUENT ITEMSETS (min support = {min_support}) ===\")\n",
    "print(f\"Found {len(frequent_itemsets)} frequent itemsets\\n\")\n",
    "\n",
    "# Filter for interesting combinations (2+ items)\n",
    "interesting_itemsets = frequent_itemsets[frequent_itemsets['itemsets'].apply(lambda x: len(x) >= 2)]\n",
    "print(\"Top frequent combinations:\")\n",
    "for idx, row in interesting_itemsets.head(20).iterrows():\n",
    "    items = list(row['itemsets'])\n",
    "    support = row['support']\n",
    "    print(f\"  {' + '.join(items)}: {support:.3f} ({support*100:.1f}%)\")"
   ],
   "outputs": [
    {
     "name": "stdout",
     "output_type": "stream",
     "text": [
      "=== FREQUENT ITEMSETS (min support = 0.05) ===\n",
      "Found 20 frequent itemsets\n",
      "\n",
      "Top frequent combinations:\n",
      "  attr:Virus + level:Mega: 0.099 (9.9%)\n",
      "  attr:Vaccine + level:Mega: 0.079 (7.9%)\n",
      "  attr:Virus + level:Ultimate: 0.076 (7.6%)\n",
      "  level:Champion + attr:Virus: 0.074 (7.4%)\n",
      "  level:Mega + attr:Data: 0.066 (6.6%)\n",
      "  level:Champion + attr:Data: 0.062 (6.2%)\n",
      "  attr:Vaccine + level:Ultimate: 0.060 (6.0%)\n",
      "  level:Ultimate + attr:Data: 0.055 (5.5%)\n",
      "  level:Champion + attr:Vaccine: 0.050 (5.0%)\n"
     ]
    }
   ],
   "execution_count": 12
  },
  {
   "cell_type": "code",
   "metadata": {
    "ExecuteTime": {
     "end_time": "2025-08-12T01:16:25.436570Z",
     "start_time": "2025-08-12T01:16:25.429741Z"
    }
   },
   "source": [
    "# Generate association rules\n",
    "if len(frequent_itemsets) > 0:\n",
    "    rules = association_rules(frequent_itemsets, metric=\"confidence\", min_threshold=0.7)\n",
    "    rules = rules.sort_values('lift', ascending=False)\n",
    "    \n",
    "    print(\"\\n=== TOP ASSOCIATION RULES ===\")\n",
    "    print(f\"Found {len(rules)} rules with confidence >= 0.7\\n\")\n",
    "    \n",
    "    # Display top rules\n",
    "    for idx, rule in rules.head(15).iterrows():\n",
    "        antecedents = ', '.join(list(rule['antecedents']))\n",
    "        consequents = ', '.join(list(rule['consequents']))\n",
    "        confidence = rule['confidence']\n",
    "        lift = rule['lift']\n",
    "        \n",
    "        print(f\"Rule {idx+1}: {antecedents} → {consequents}\")\n",
    "        print(f\"  Confidence: {confidence:.3f}, Lift: {lift:.3f}\")\n",
    "        print()"
   ],
   "outputs": [
    {
     "name": "stdout",
     "output_type": "stream",
     "text": [
      "\n",
      "=== TOP ASSOCIATION RULES ===\n",
      "Found 0 rules with confidence >= 0.7\n",
      "\n"
     ]
    }
   ],
   "execution_count": 13
  },
  {
   "cell_type": "markdown",
   "metadata": {},
   "source": [
    "## 6. Predictive Analysis"
   ]
  },
  {
   "cell_type": "code",
   "metadata": {
    "ExecuteTime": {
     "end_time": "2025-08-12T01:16:28.169366Z",
     "start_time": "2025-08-12T01:16:27.660712Z"
    }
   },
   "source": [
    "# Analyze if we can predict attribute from type\n",
    "from sklearn.model_selection import cross_val_score\n",
    "from sklearn.ensemble import RandomForestClassifier\n",
    "from sklearn.preprocessing import LabelEncoder\n",
    "\n",
    "# Prepare data\n",
    "le_type = LabelEncoder()\n",
    "le_attr = LabelEncoder()\n",
    "\n",
    "X = le_type.fit_transform(complete_df['type']).reshape(-1, 1)\n",
    "y = le_attr.fit_transform(complete_df['attribute'])\n",
    "\n",
    "# Simple model to test predictability\n",
    "rf = RandomForestClassifier(n_estimators=100, random_state=42)\n",
    "scores = cross_val_score(rf, X, y, cv=5, scoring='accuracy')\n",
    "\n",
    "print(\"=== ATTRIBUTE PREDICTABILITY FROM TYPE ===\")\n",
    "print(f\"Cross-validation accuracy: {scores.mean():.3f} (+/- {scores.std() * 2:.3f})\")\n",
    "print(f\"Baseline accuracy (most common class): {complete_df['attribute'].value_counts().max() / len(complete_df):.3f}\")\n",
    "\n",
    "# Fit the model to get feature importance\n",
    "rf.fit(X, y)\n",
    "print(f\"\\nModel improvement over baseline: {scores.mean() - (complete_df['attribute'].value_counts().max() / len(complete_df)):.3f}\")"
   ],
   "outputs": [
    {
     "name": "stdout",
     "output_type": "stream",
     "text": [
      "=== ATTRIBUTE PREDICTABILITY FROM TYPE ===\n",
      "Cross-validation accuracy: 0.480 (+/- 0.037)\n",
      "Baseline accuracy (most common class): 0.318\n",
      "\n",
      "Model improvement over baseline: 0.163\n"
     ]
    }
   ],
   "execution_count": 14
  },
  {
   "cell_type": "code",
   "metadata": {
    "ExecuteTime": {
     "end_time": "2025-08-12T01:16:31.334435Z",
     "start_time": "2025-08-12T01:16:31.203020Z"
    }
   },
   "source": [
    "# Analyze type clustering based on attribute distribution\n",
    "from sklearn.cluster import KMeans\n",
    "from sklearn.preprocessing import StandardScaler\n",
    "\n",
    "# Create type-attribute matrix for clustering\n",
    "type_attr_matrix = pd.crosstab(complete_df['type'], complete_df['attribute'])\n",
    "type_attr_matrix_norm = type_attr_matrix.div(type_attr_matrix.sum(axis=1), axis=0)\n",
    "\n",
    "# Filter to types with at least 5 Digimon\n",
    "type_counts = complete_df['type'].value_counts()\n",
    "common_types = type_counts[type_counts >= 5].index\n",
    "type_attr_matrix_norm = type_attr_matrix_norm.loc[common_types]\n",
    "\n",
    "# Perform clustering\n",
    "n_clusters = 5\n",
    "kmeans = KMeans(n_clusters=n_clusters, random_state=42, n_init=10)\n",
    "type_clusters = kmeans.fit_predict(type_attr_matrix_norm)\n",
    "\n",
    "# Create cluster results\n",
    "cluster_df = pd.DataFrame({\n",
    "    'type': type_attr_matrix_norm.index,\n",
    "    'cluster': type_clusters\n",
    "})\n",
    "\n",
    "print(f\"=== TYPE CLUSTERING BASED ON ATTRIBUTES ===\")\n",
    "print(f\"Clustered {len(common_types)} types into {n_clusters} groups\\n\")\n",
    "\n",
    "for cluster_id in range(n_clusters):\n",
    "    cluster_types = cluster_df[cluster_df['cluster'] == cluster_id]['type'].tolist()\n",
    "    print(f\"Cluster {cluster_id + 1} ({len(cluster_types)} types):\")\n",
    "    print(f\"  {', '.join(cluster_types[:10])}{'...' if len(cluster_types) > 10 else ''}\")\n",
    "    \n",
    "    # Show dominant attribute pattern\n",
    "    cluster_data = complete_df[complete_df['type'].isin(cluster_types)]\n",
    "    attr_dist = cluster_data['attribute'].value_counts(normalize=True)\n",
    "    print(f\"  Attribute distribution: {dict(attr_dist)}\")\n",
    "    print()"
   ],
   "outputs": [
    {
     "name": "stdout",
     "output_type": "stream",
     "text": [
      "=== TYPE CLUSTERING BASED ON ATTRIBUTES ===\n",
      "Clustered 58 types into 5 groups\n",
      "\n",
      "Cluster 1 (20 types):\n",
      "  beast Type, Beastman Type, God Type, Holy Knight Type, Holy Beast Type, dinosaur Type, mammalian Type, bird Type, Warrior Type, Giant bird Type...\n",
      "  Attribute distribution: {'Vaccine': 0.4551083591331269, 'Data': 0.24458204334365324, 'Virus': 0.16718266253869968, 'Free': 0.09287925696594428, 'Variable': 0.02786377708978328, '': 0.009287925696594427, 'Unknown': 0.0030959752321981426}\n",
      "\n",
      "Cluster 2 (23 types):\n",
      "  cyborg Type, Puppet Type, Machine Type, insect Type, Demon Type, Dragon Type, plant Type, Demon Beast Type, Demon King Type, Undead Type...\n",
      "  Attribute distribution: {'Virus': 0.5283757338551859, 'Data': 0.2172211350293542, 'Vaccine': 0.14481409001956946, 'Free': 0.06457925636007827, 'Variable': 0.033268101761252444, '': 0.011741682974559686}\n",
      "\n",
      "Cluster 3 (2 types):\n",
      "  Slime Type, Lesser Type\n",
      "  Attribute distribution: {'': 1.0}\n",
      "\n",
      "Cluster 4 (2 types):\n",
      "  Tribe unknown Species, Unknown\n",
      "  Attribute distribution: {'Unknown': 0.8333333333333334, '': 0.1, 'Virus': 0.06666666666666667}\n",
      "\n",
      "Cluster 5 (11 types):\n",
      "  mutation Type, fairy Type, Aquatic Type, Synthesis Type, Little Dragon Type, dragon Type, Ancient Beast Type, Protector Type, flame Type, The demon beast Type...\n",
      "  Attribute distribution: {'Data': 0.5, 'Virus': 0.19135802469135801, 'Vaccine': 0.1419753086419753, 'Free': 0.08641975308641975, '': 0.043209876543209874, 'Variable': 0.030864197530864196, 'Unknown': 0.006172839506172839}\n",
      "\n"
     ]
    }
   ],
   "execution_count": 15
  },
  {
   "cell_type": "markdown",
   "metadata": {},
   "source": [
    "## 7. Visualizations"
   ]
  },
  {
   "cell_type": "code",
   "metadata": {
    "ExecuteTime": {
     "end_time": "2025-08-12T01:16:38.844615Z",
     "start_time": "2025-08-12T01:16:37.357740Z"
    }
   },
   "source": "# Type-Attribute heatmap (top types)\nfig = plot_heatmap(\n    attr_by_type,\n    title=\"Type-Attribute Distribution Heatmap (Top 15 Types)\",\n    figsize=(12, 10)\n)\nsave_figure(fig, \"type_attribute_heatmap\", notebook_name=notebook_name)\nplt.show()",
   "outputs": [],
   "execution_count": null
  },
  {
   "cell_type": "code",
   "metadata": {
    "ExecuteTime": {
     "end_time": "2025-08-12T01:16:42.724052Z",
     "start_time": "2025-08-12T01:16:40.788387Z"
    }
   },
   "source": "# Bubble chart for type-attribute combinations\nfig, ax = plt.subplots(figsize=(14, 10))\n\n# Prepare data for bubble chart\ntop_combinations = type_attr_combinations.head(30)\ntypes = top_combinations['type'].values\nattributes = top_combinations['attribute'].values\ncounts = top_combinations['count'].values\n\n# Create categorical positions\nunique_types = list(dict.fromkeys(types))\nunique_attrs = list(dict.fromkeys(attributes))\nx_pos = [unique_types.index(t) for t in types]\ny_pos = [unique_attrs.index(a) for a in attributes]\n\n# Create bubble chart\nscatter = ax.scatter(x_pos, y_pos, s=counts*50, alpha=0.6, \n                    c=counts, cmap='viridis', edgecolors='black', linewidth=1)\n\n# Customize\nax.set_xticks(range(len(unique_types)))\nax.set_xticklabels(unique_types, rotation=45, ha='right')\nax.set_yticks(range(len(unique_attrs)))\nax.set_yticklabels(unique_attrs)\nax.set_xlabel('Type', fontsize=12)\nax.set_ylabel('Attribute', fontsize=12)\nax.set_title('Type-Attribute Combination Frequencies (Top 30)', fontsize=16, fontweight='bold')\n\n# Add colorbar\ncbar = plt.colorbar(scatter, ax=ax)\ncbar.set_label('Count', fontsize=10)\n\n# Add count labels for largest bubbles\nfor i, count in enumerate(counts[:10]):\n    ax.annotate(str(count), (x_pos[i], y_pos[i]), \n                ha='center', va='center', fontsize=8)\n\nplt.tight_layout()\nsave_figure(fig, \"type_attribute_bubble_chart\", notebook_name=notebook_name)\nplt.show()",
   "outputs": [],
   "execution_count": null
  },
  {
   "cell_type": "code",
   "metadata": {
    "ExecuteTime": {
     "end_time": "2025-08-12T01:16:56.587732Z",
     "start_time": "2025-08-12T01:16:55.119378Z"
    }
   },
   "source": "# Parallel coordinates plot for multi-attribute patterns\nfrom pandas.plotting import parallel_coordinates\n\n# Prepare data for parallel coordinates\nsample_size = 200\nparallel_data = complete_df[['type', 'attribute', 'level']].copy()\n\n# Encode categoricals as numbers for visualization\nfor col in ['type', 'attribute', 'level']:\n    le = LabelEncoder()\n    parallel_data[f'{col}_encoded'] = le.fit_transform(parallel_data[col])\n\n# Sample data\nif len(parallel_data) > sample_size:\n    parallel_data = parallel_data.sample(n=sample_size, random_state=42)\n\n# Create plot\nfig, ax = plt.subplots(figsize=(12, 6))\nparallel_coordinates(parallel_data[['attribute', 'type_encoded', 'level_encoded']], \n                    'attribute', alpha=0.3, ax=ax)\n\nax.set_xlabel('Features')\nax.set_ylabel('Encoded Values')\nax.set_title(f'Parallel Coordinates: Type-Level Patterns by Attribute (n={sample_size})', \n            fontsize=16, fontweight='bold')\nax.legend(loc='center left', bbox_to_anchor=(1, 0.5))\n\nplt.tight_layout()\nsave_figure(fig, \"parallel_coordinates_attributes\", notebook_name=notebook_name)\nplt.show()",
   "outputs": [],
   "execution_count": null
  },
  {
   "cell_type": "code",
   "metadata": {
    "ExecuteTime": {
     "end_time": "2025-08-12T01:17:05.332890Z",
     "start_time": "2025-08-12T01:17:05.327073Z"
    }
   },
   "source": "# Statistical test results visualization\nif len(level_assoc_df) > 0:\n    fig, (ax1, ax2) = plt.subplots(1, 2, figsize=(14, 6))\n    \n    # P-values by level\n    bars1 = ax1.bar(level_assoc_df['level'], -np.log10(level_assoc_df['p_value']), \n                    color=[LEVEL_COLORS.get(l, '#808080') for l in level_assoc_df['level']])\n    ax1.axhline(y=-np.log10(0.05), color='red', linestyle='--', label='p=0.05')\n    ax1.set_xlabel('Level')\n    ax1.set_ylabel('-log10(p-value)')\n    ax1.set_title('Type-Attribute Association Significance by Level', fontsize=14)\n    ax1.legend()\n    \n    # Effect sizes by level\n    bars2 = ax2.bar(level_assoc_df['level'], level_assoc_df['cramers_v'], \n                    color=[LEVEL_COLORS.get(l, '#808080') for l in level_assoc_df['level']])\n    ax2.set_xlabel('Level')\n    ax2.set_ylabel(\"Cramér's V\")\n    ax2.set_title('Type-Attribute Association Strength by Level', fontsize=14)\n    \n    # Add value labels\n    for bars in [bars1, bars2]:\n        for bar in bars:\n            height = bar.get_height()\n            ax = bar.axes\n            ax.text(bar.get_x() + bar.get_width()/2., height,\n                    f'{height:.2f}', ha='center', va='bottom', fontsize=8)\n    \n    plt.tight_layout()\n    save_figure(fig, \"level_association_statistics\", notebook_name=notebook_name)\n    plt.show()",
   "outputs": [],
   "execution_count": null
  },
  {
   "cell_type": "markdown",
   "metadata": {},
   "source": [
    "## 8. Export Results"
   ]
  },
  {
   "cell_type": "code",
   "metadata": {
    "ExecuteTime": {
     "end_time": "2025-08-12T01:17:08.778924Z",
     "start_time": "2025-08-12T01:17:08.766863Z"
    }
   },
   "source": "# Create results directory\nfrom pathlib import Path\nresults_dir = Path(f'../results/{notebook_name}/data')\nresults_dir.mkdir(parents=True, exist_ok=True)\n\n# Export key findings\ncorrelation_results = {\n    'chi_square_statistic': float(chi2),\n    'p_value': float(p_value),\n    'cramers_v': float(cramers_v_value),\n    'mutual_information': float(mi_score),\n    'normalized_mi': float(nmi_score),\n    'n_unique_combinations': len(type_attr_combinations),\n    'n_rare_combinations': len(rare_combinations)\n}\n\nimport json\nwith open(results_dir / 'type_attribute_correlations.json', 'w') as f:\n    json.dump(correlation_results, f, indent=2)\n\n# Export combination frequencies\ntype_attr_combinations.to_csv(results_dir / 'type_attribute_combinations.csv', index=False)\n\n# Export association rules if generated\nif 'rules' in locals() and len(rules) > 0:\n    rules_export = rules[['antecedents', 'consequents', 'support', 'confidence', 'lift']].copy()\n    rules_export['antecedents'] = rules_export['antecedents'].apply(lambda x: ', '.join(list(x)))\n    rules_export['consequents'] = rules_export['consequents'].apply(lambda x: ', '.join(list(x)))\n    rules_export.to_csv(results_dir / 'association_rules.csv', index=False)\n\n# Export frequent itemsets\nif len(frequent_itemsets) > 0:\n    itemsets_export = frequent_itemsets.copy()\n    itemsets_export['itemsets'] = itemsets_export['itemsets'].apply(lambda x: ', '.join(list(x)))\n    itemsets_export.to_csv(results_dir / 'frequent_itemsets.csv', index=False)\n\nprint(\"Results exported successfully!\")",
   "outputs": [],
   "execution_count": null
  },
  {
   "cell_type": "markdown",
   "metadata": {},
   "source": [
    "## Summary and Key Findings\n",
    "\n",
    "### Type-Attribute Correlation Insights:\n",
    "\n",
    "1. **Statistical Dependence**:\n",
    "   - Strong statistical evidence that type and attribute are not independent\n",
    "   - Effect size suggests meaningful associations between certain types and attributes\n",
    "   - Mutual information confirms information gain from knowing one feature\n",
    "\n",
    "2. **Distribution Patterns**:\n",
    "   - Some type-attribute combinations are much more common than others\n",
    "   - Many rare/unique combinations exist, suggesting diversity\n",
    "   - Level influences the strength of type-attribute associations\n",
    "\n",
    "3. **Association Rules**:\n",
    "   - Strong predictive rules exist between certain features\n",
    "   - Some combinations have high confidence and lift values\n",
    "   - Patterns suggest design principles in Digimon creation\n",
    "\n",
    "4. **Predictability**:\n",
    "   - Attributes show moderate predictability from types\n",
    "   - Types cluster into groups based on attribute preferences\n",
    "   - Certain type families share similar attribute distributions\n",
    "\n",
    "These findings reveal systematic patterns in how Digimon types and attributes are related, suggesting underlying design principles in the franchise."
   ]
  },
  {
   "cell_type": "code",
   "metadata": {
    "ExecuteTime": {
     "end_time": "2025-08-12T01:17:12.553162Z",
     "start_time": "2025-08-12T01:17:12.547383Z"
    }
   },
   "source": [
    "# Close database connection\n",
    "conn.close()\n",
    "print(\"Type-Attribute correlation analysis complete! Database connection closed.\")"
   ],
   "outputs": [
    {
     "name": "stdout",
     "output_type": "stream",
     "text": [
      "Type-Attribute correlation analysis complete! Database connection closed.\n"
     ]
    }
   ],
   "execution_count": 21
  }
 ],
 "metadata": {
  "kernelspec": {
   "display_name": "Python 3",
   "language": "python",
   "name": "python3"
  },
  "language_info": {
   "codemirror_mode": {
    "name": "ipython",
    "version": 3
   },
   "file_extension": ".py",
   "mimetype": "text/x-python",
   "name": "python",
   "nbconvert_exporter": "python",
   "pygments_lexer": "ipython3",
   "version": "3.12.0"
  }
 },
 "nbformat": 4,
 "nbformat_minor": 4
}